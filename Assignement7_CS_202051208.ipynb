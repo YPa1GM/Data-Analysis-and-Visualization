{
 "cells": [
  {
   "cell_type": "markdown",
   "id": "6720a130",
   "metadata": {},
   "source": [
    "# Assignement-7 : DAV\n",
    "# Yenumula Pavan Gopal Mourya\n",
    "# 202051208"
   ]
  },
  {
   "cell_type": "code",
   "execution_count": 1,
   "id": "f4577c52",
   "metadata": {},
   "outputs": [
    {
     "data": {
      "text/html": [
       "<div>\n",
       "<style scoped>\n",
       "    .dataframe tbody tr th:only-of-type {\n",
       "        vertical-align: middle;\n",
       "    }\n",
       "\n",
       "    .dataframe tbody tr th {\n",
       "        vertical-align: top;\n",
       "    }\n",
       "\n",
       "    .dataframe thead th {\n",
       "        text-align: right;\n",
       "    }\n",
       "</style>\n",
       "<table border=\"1\" class=\"dataframe\">\n",
       "  <thead>\n",
       "    <tr style=\"text-align: right;\">\n",
       "      <th></th>\n",
       "      <th>Gender</th>\n",
       "      <th>Height</th>\n",
       "      <th>Weight</th>\n",
       "    </tr>\n",
       "  </thead>\n",
       "  <tbody>\n",
       "    <tr>\n",
       "      <th>0</th>\n",
       "      <td>Male</td>\n",
       "      <td>73.847017</td>\n",
       "      <td>241.893563</td>\n",
       "    </tr>\n",
       "    <tr>\n",
       "      <th>1</th>\n",
       "      <td>Male</td>\n",
       "      <td>68.781904</td>\n",
       "      <td>162.310473</td>\n",
       "    </tr>\n",
       "    <tr>\n",
       "      <th>2</th>\n",
       "      <td>Male</td>\n",
       "      <td>74.110105</td>\n",
       "      <td>212.740856</td>\n",
       "    </tr>\n",
       "    <tr>\n",
       "      <th>3</th>\n",
       "      <td>Male</td>\n",
       "      <td>71.730978</td>\n",
       "      <td>220.042470</td>\n",
       "    </tr>\n",
       "    <tr>\n",
       "      <th>4</th>\n",
       "      <td>Male</td>\n",
       "      <td>69.881796</td>\n",
       "      <td>206.349801</td>\n",
       "    </tr>\n",
       "  </tbody>\n",
       "</table>\n",
       "</div>"
      ],
      "text/plain": [
       "  Gender     Height      Weight\n",
       "0   Male  73.847017  241.893563\n",
       "1   Male  68.781904  162.310473\n",
       "2   Male  74.110105  212.740856\n",
       "3   Male  71.730978  220.042470\n",
       "4   Male  69.881796  206.349801"
      ]
     },
     "execution_count": 1,
     "metadata": {},
     "output_type": "execute_result"
    }
   ],
   "source": [
    "import pandas as pd\n",
    "import seaborn as sns\n",
    "\n",
    "weight_height_df=pd.read_csv('weight-height.csv')\n",
    "weight_height_df.head()"
   ]
  },
  {
   "cell_type": "code",
   "execution_count": 2,
   "id": "8997d3b2",
   "metadata": {},
   "outputs": [
    {
     "data": {
      "text/plain": [
       "10000"
      ]
     },
     "execution_count": 2,
     "metadata": {},
     "output_type": "execute_result"
    }
   ],
   "source": [
    "len(weight_height_df)"
   ]
  },
  {
   "cell_type": "code",
   "execution_count": 3,
   "id": "9c337e08",
   "metadata": {},
   "outputs": [
    {
     "name": "stdout",
     "output_type": "stream",
     "text": [
      "Populations average weight : 161.44035683283076\n",
      "Population  average height : 66.36755975482106\n"
     ]
    }
   ],
   "source": [
    "Population_Mean_weight=weight_height_df.Weight.mean()\n",
    "Population_Mean_height=weight_height_df.Height.mean()\n",
    "print(f'Populations average weight : {Population_Mean_weight}')\n",
    "print(f'Population  average height : {Population_Mean_height}')"
   ]
  },
  {
   "cell_type": "markdown",
   "id": "24b5cfb6",
   "metadata": {},
   "source": [
    "# 1) Simple Random Sampling :"
   ]
  },
  {
   "cell_type": "code",
   "execution_count": 4,
   "id": "94702497",
   "metadata": {},
   "outputs": [
    {
     "name": "stdout",
     "output_type": "stream",
     "text": [
      "Sample Size : 1000\n"
     ]
    }
   ],
   "source": [
    "### The probability of sampling up any element from Population to sample data is equally likely\n",
    "\n",
    "# Let's pick a sample size of 1000 from our population data \n",
    "SRS=weight_height_df.sample(n=1000)\n",
    "# Now let's sort the elements based upon the axis labels (In ours case axis=1)\n",
    "SRS=SRS.sort_index()\n",
    "print(f'Sample Size : {len(SRS)}')"
   ]
  },
  {
   "cell_type": "code",
   "execution_count": 5,
   "id": "b35e0e64",
   "metadata": {},
   "outputs": [
    {
     "name": "stdout",
     "output_type": "stream",
     "text": [
      "Strength of Female : 515\n",
      "Strength of Male : 485\n"
     ]
    },
    {
     "data": {
      "text/html": [
       "<div>\n",
       "<style scoped>\n",
       "    .dataframe tbody tr th:only-of-type {\n",
       "        vertical-align: middle;\n",
       "    }\n",
       "\n",
       "    .dataframe tbody tr th {\n",
       "        vertical-align: top;\n",
       "    }\n",
       "\n",
       "    .dataframe thead th {\n",
       "        text-align: right;\n",
       "    }\n",
       "</style>\n",
       "<table border=\"1\" class=\"dataframe\">\n",
       "  <thead>\n",
       "    <tr style=\"text-align: right;\">\n",
       "      <th></th>\n",
       "      <th>Gender</th>\n",
       "      <th>Height</th>\n",
       "      <th>Weight</th>\n",
       "    </tr>\n",
       "  </thead>\n",
       "  <tbody>\n",
       "    <tr>\n",
       "      <th>4</th>\n",
       "      <td>Male</td>\n",
       "      <td>69.881796</td>\n",
       "      <td>206.349801</td>\n",
       "    </tr>\n",
       "    <tr>\n",
       "      <th>39</th>\n",
       "      <td>Male</td>\n",
       "      <td>64.304188</td>\n",
       "      <td>163.108017</td>\n",
       "    </tr>\n",
       "    <tr>\n",
       "      <th>42</th>\n",
       "      <td>Male</td>\n",
       "      <td>65.270346</td>\n",
       "      <td>168.617746</td>\n",
       "    </tr>\n",
       "    <tr>\n",
       "      <th>55</th>\n",
       "      <td>Male</td>\n",
       "      <td>66.499550</td>\n",
       "      <td>163.309528</td>\n",
       "    </tr>\n",
       "    <tr>\n",
       "      <th>56</th>\n",
       "      <td>Male</td>\n",
       "      <td>68.353057</td>\n",
       "      <td>189.710210</td>\n",
       "    </tr>\n",
       "  </tbody>\n",
       "</table>\n",
       "</div>"
      ],
      "text/plain": [
       "   Gender     Height      Weight\n",
       "4    Male  69.881796  206.349801\n",
       "39   Male  64.304188  163.108017\n",
       "42   Male  65.270346  168.617746\n",
       "55   Male  66.499550  163.309528\n",
       "56   Male  68.353057  189.710210"
      ]
     },
     "execution_count": 5,
     "metadata": {},
     "output_type": "execute_result"
    }
   ],
   "source": [
    "Female_strength=len(SRS[SRS.Gender=='Female'])\n",
    "Male_strength=len(SRS[SRS.Gender=='Male'])\n",
    "\n",
    "print(f'Strength of Female : {Female_strength}')\n",
    "print(f'Strength of Male : {Male_strength}')\n",
    "\n",
    "SRS.head(5)"
   ]
  },
  {
   "cell_type": "markdown",
   "id": "6575345f",
   "metadata": {},
   "source": [
    "## a) Height  Feature"
   ]
  },
  {
   "cell_type": "code",
   "execution_count": 6,
   "id": "56f88ace",
   "metadata": {},
   "outputs": [
    {
     "name": "stdout",
     "output_type": "stream",
     "text": [
      "Sample Mean of Height feature in Simple Random Sample  : 66.40308788911526\n",
      "==> Rounded Value  : 66.4031\n"
     ]
    }
   ],
   "source": [
    "SRS_Height_Mean=SRS.Height.mean()\n",
    "\n",
    "print(f'Sample Mean of Height feature in Simple Random Sample  : {SRS_Height_Mean}',end=\"\\n==> \")\n",
    "# Let's round of the value to 4 places \n",
    "SRS_Height_Mean=round(SRS_Height_Mean,4)\n",
    "print(f'Rounded Value  : {SRS_Height_Mean}')"
   ]
  },
  {
   "cell_type": "markdown",
   "id": "8edd0348",
   "metadata": {},
   "source": [
    "## b) Weight  Feature"
   ]
  },
  {
   "cell_type": "code",
   "execution_count": 7,
   "id": "28bf544e",
   "metadata": {},
   "outputs": [
    {
     "name": "stdout",
     "output_type": "stream",
     "text": [
      "Sample Mean of Weight feature in Simple Random Sample  : 161.6516629984772\n",
      "==> Rounded Value  : 161.6517\n"
     ]
    }
   ],
   "source": [
    "SRS_Weight_Mean=SRS.Weight.mean()\n",
    "\n",
    "print(f'Sample Mean of Weight feature in Simple Random Sample  : {SRS_Weight_Mean}',end=\"\\n==> \")\n",
    "SRS_Weight_Mean=round(SRS_Weight_Mean,4)\n",
    "print(f'Rounded Value  : {SRS_Weight_Mean}')"
   ]
  },
  {
   "cell_type": "markdown",
   "id": "1547405d",
   "metadata": {},
   "source": [
    "# 2) Systematic Sampling :"
   ]
  },
  {
   "cell_type": "code",
   "execution_count": 8,
   "id": "20698fff",
   "metadata": {},
   "outputs": [
    {
     "name": "stdout",
     "output_type": "stream",
     "text": [
      "Sample Size : 1000\n"
     ]
    }
   ],
   "source": [
    "import numpy as np\n",
    "def SystematicSampling(stp,dataframe):\n",
    "    return dataframe.iloc[np.arange(0,len(dataframe),step=stp)]\n",
    "    \n",
    "# We are taking a step size of 1000 so that sample size will be 100\n",
    "# So that we can fairly compare to above sample\n",
    "systematic_Sample = SystematicSampling(10,weight_height_df)\n",
    "print(f'Sample Size : {len(systematic_Sample)}')"
   ]
  },
  {
   "cell_type": "code",
   "execution_count": 9,
   "id": "c5501d1f",
   "metadata": {},
   "outputs": [
    {
     "name": "stdout",
     "output_type": "stream",
     "text": [
      "Strength of Female : 500\n",
      "Strength of Male : 500\n"
     ]
    }
   ],
   "source": [
    "Female_strength=len(systematic_Sample[systematic_Sample.Gender=='Female'])\n",
    "Male_strength=len(systematic_Sample[systematic_Sample.Gender=='Male'])\n",
    "\n",
    "print(f'Strength of Female : {Female_strength}')\n",
    "print(f'Strength of Male : {Male_strength}')"
   ]
  },
  {
   "cell_type": "markdown",
   "id": "542dce65",
   "metadata": {},
   "source": [
    "## a) Height  Feature"
   ]
  },
  {
   "cell_type": "code",
   "execution_count": 10,
   "id": "8ff21775",
   "metadata": {},
   "outputs": [
    {
     "name": "stdout",
     "output_type": "stream",
     "text": [
      "Sample Mean of Height feature in Simple Random Sample  : 66.42638343951087\n",
      "==> Rounded Value  : 66.4264\n"
     ]
    }
   ],
   "source": [
    "systematic_Sample_Height_Mean=systematic_Sample.Height.mean()\n",
    "\n",
    "print(f'Sample Mean of Height feature in Simple Random Sample  : {systematic_Sample_Height_Mean}',end=\"\\n==> \")\n",
    "# Let's round of the value to 4 places \n",
    "systematicHeight_Mean=round(systematic_Sample_Height_Mean,4)\n",
    "print(f'Rounded Value  : {systematicHeight_Mean}')"
   ]
  },
  {
   "cell_type": "markdown",
   "id": "a5f5e1cf",
   "metadata": {},
   "source": [
    "## b) Weight  Feature"
   ]
  },
  {
   "cell_type": "code",
   "execution_count": 11,
   "id": "a56886de",
   "metadata": {},
   "outputs": [
    {
     "name": "stdout",
     "output_type": "stream",
     "text": [
      "Sample Mean of Weight feature in Simple Random Sample  : 161.70628122129065\n",
      "==> Rounded Value  : 161.7063\n"
     ]
    }
   ],
   "source": [
    "systematic_Sample_Weight_Mean=systematic_Sample.Weight.mean()\n",
    "\n",
    "print(f'Sample Mean of Weight feature in Simple Random Sample  : {systematic_Sample_Weight_Mean}',end=\"\\n==> \")\n",
    "# Let's round of the value to 4 places \n",
    "systematic_Sample_Weight_Mean=round(systematic_Sample_Weight_Mean,4)\n",
    "print(f'Rounded Value  : {systematic_Sample_Weight_Mean}')"
   ]
  },
  {
   "cell_type": "markdown",
   "id": "54970bf0",
   "metadata": {},
   "source": [
    "# 3) Stratified Sampling"
   ]
  },
  {
   "cell_type": "code",
   "execution_count": 12,
   "id": "79bf3c42",
   "metadata": {},
   "outputs": [
    {
     "name": "stdout",
     "output_type": "stream",
     "text": [
      "Sample Size : 1000\n"
     ]
    }
   ],
   "source": [
    "from sklearn.model_selection import StratifiedShuffleSplit\n",
    "# The Scikit learn's model provide various range of models which we can select . For splitting train and test data\n",
    "# Here we are selecting a StratifiedShuffleSplit model for The 3rd part of our task \n",
    "\n",
    "# Criteria for  the splitting\n",
    "sample = StratifiedShuffleSplit(n_splits=1, test_size=1000)\n",
    "\n",
    "for x, y in sample.split(weight_height_df, weight_height_df.Gender):\n",
    "    stratifiedRandomSample = weight_height_df.iloc[y]\n",
    "\n",
    "print(f'Sample Size : {len(stratifiedRandomSample)}')"
   ]
  },
  {
   "cell_type": "markdown",
   "id": "f584bc2b",
   "metadata": {},
   "source": [
    "# a) Height Feature "
   ]
  },
  {
   "cell_type": "code",
   "execution_count": 13,
   "id": "f3695a8c",
   "metadata": {},
   "outputs": [
    {
     "name": "stdout",
     "output_type": "stream",
     "text": [
      "Sample Mean of Height feature in Simple Random Sample  : 66.42714221527501\n",
      "==> Rounded Value  : 66.4271\n"
     ]
    }
   ],
   "source": [
    "stratifiedRandomSampleHeightMean = stratifiedRandomSample.Height.mean()\n",
    "print(f'Sample Mean of Height feature in Simple Random Sample  : {stratifiedRandomSampleHeightMean}',end=\"\\n==> \")\n",
    "# Let's round of the value to 4 places \n",
    "stratifiedRandomSampleHeightMean=round(stratifiedRandomSampleHeightMean,4)\n",
    "print(f'Rounded Value  : {stratifiedRandomSampleHeightMean}')"
   ]
  },
  {
   "cell_type": "markdown",
   "id": "7a7a3f8f",
   "metadata": {},
   "source": [
    "# b) Weight Feature "
   ]
  },
  {
   "cell_type": "code",
   "execution_count": 14,
   "id": "019ba135",
   "metadata": {},
   "outputs": [
    {
     "name": "stdout",
     "output_type": "stream",
     "text": [
      "Sample Mean of Weight feature in Simple Random Sample  : 161.39558923266566\n",
      "==> Rounded Value  : 161.3956\n"
     ]
    }
   ],
   "source": [
    "stratifiedRandomSampleWeightMean = stratifiedRandomSample.Weight.mean()\n",
    "print(f'Sample Mean of Weight feature in Simple Random Sample  : {stratifiedRandomSampleWeightMean}',end=\"\\n==> \")\n",
    "# Let's round of the value to 4 places \n",
    "stratifiedRandomSampleWeightMean=round(stratifiedRandomSampleWeightMean,4)\n",
    "print(f'Rounded Value  : {stratifiedRandomSampleWeightMean}')"
   ]
  },
  {
   "cell_type": "code",
   "execution_count": 15,
   "id": "915a0e72",
   "metadata": {},
   "outputs": [
    {
     "name": "stdout",
     "output_type": "stream",
     "text": [
      "Strength of Female : 500\n",
      "Strength of Male : 500\n"
     ]
    }
   ],
   "source": [
    "Female_strength=len(stratifiedRandomSample[stratifiedRandomSample.Gender=='Female'])\n",
    "Male_strength=len(stratifiedRandomSample[stratifiedRandomSample.Gender=='Male'])\n",
    "\n",
    "print(f'Strength of Female : {Female_strength}')\n",
    "print(f'Strength of Male : {Male_strength}')"
   ]
  },
  {
   "cell_type": "code",
   "execution_count": 16,
   "id": "271f4a9c",
   "metadata": {},
   "outputs": [
    {
     "data": {
      "text/html": [
       "<div>\n",
       "<style scoped>\n",
       "    .dataframe tbody tr th:only-of-type {\n",
       "        vertical-align: middle;\n",
       "    }\n",
       "\n",
       "    .dataframe tbody tr th {\n",
       "        vertical-align: top;\n",
       "    }\n",
       "\n",
       "    .dataframe thead th {\n",
       "        text-align: right;\n",
       "    }\n",
       "</style>\n",
       "<table border=\"1\" class=\"dataframe\">\n",
       "  <thead>\n",
       "    <tr style=\"text-align: right;\">\n",
       "      <th></th>\n",
       "      <th>Gender</th>\n",
       "      <th>Height</th>\n",
       "      <th>Weight</th>\n",
       "    </tr>\n",
       "  </thead>\n",
       "  <tbody>\n",
       "    <tr>\n",
       "      <th>4860</th>\n",
       "      <td>Male</td>\n",
       "      <td>65.091961</td>\n",
       "      <td>160.470736</td>\n",
       "    </tr>\n",
       "    <tr>\n",
       "      <th>153</th>\n",
       "      <td>Male</td>\n",
       "      <td>69.938475</td>\n",
       "      <td>170.175854</td>\n",
       "    </tr>\n",
       "    <tr>\n",
       "      <th>1457</th>\n",
       "      <td>Male</td>\n",
       "      <td>71.954868</td>\n",
       "      <td>215.155763</td>\n",
       "    </tr>\n",
       "    <tr>\n",
       "      <th>8074</th>\n",
       "      <td>Female</td>\n",
       "      <td>61.157983</td>\n",
       "      <td>123.345801</td>\n",
       "    </tr>\n",
       "    <tr>\n",
       "      <th>4123</th>\n",
       "      <td>Male</td>\n",
       "      <td>69.004300</td>\n",
       "      <td>196.362336</td>\n",
       "    </tr>\n",
       "  </tbody>\n",
       "</table>\n",
       "</div>"
      ],
      "text/plain": [
       "      Gender     Height      Weight\n",
       "4860    Male  65.091961  160.470736\n",
       "153     Male  69.938475  170.175854\n",
       "1457    Male  71.954868  215.155763\n",
       "8074  Female  61.157983  123.345801\n",
       "4123    Male  69.004300  196.362336"
      ]
     },
     "execution_count": 16,
     "metadata": {},
     "output_type": "execute_result"
    }
   ],
   "source": [
    "stratifiedRandomSample.head()"
   ]
  },
  {
   "cell_type": "code",
   "execution_count": 17,
   "id": "aa905d4f",
   "metadata": {},
   "outputs": [],
   "source": [
    "# Let's create two dictionaries for Height and Weight features separately name Result storing the mean of each sampling technique\n",
    "Height_Result = {'sample_mean':[SRS_Height_Mean,systematicHeight_Mean,stratifiedRandomSampleHeightMean],\n",
    "           'population_mean':Population_Mean_height}\n",
    "Weight_Result = {'sample_mean':[SRS_Weight_Mean,systematic_Sample_Weight_Mean,stratifiedRandomSampleWeightMean],\n",
    "           'population_mean':Population_Mean_weight}\n",
    "\n",
    "# Conversion of Dict to DataFrame\n",
    "Height_Result = pd.DataFrame(Height_Result, index=['Simple Random Sampling','Systematic Sampling','Stratified Sampling'])\n",
    "Weight_Result = pd.DataFrame(Weight_Result, index=['Simple Random Sampling','Systematic Sampling','Stratified Sampling'])"
   ]
  },
  {
   "cell_type": "markdown",
   "id": "094c6e9d",
   "metadata": {},
   "source": [
    "# Important NOTE : \n",
    "## The Error for all the three tasks or Sampling methods are calculated together below"
   ]
  },
  {
   "cell_type": "markdown",
   "id": "6fa3fb87",
   "metadata": {},
   "source": [
    "# Sampling error for Weight Feature"
   ]
  },
  {
   "cell_type": "code",
   "execution_count": 18,
   "id": "c1a73033",
   "metadata": {},
   "outputs": [
    {
     "data": {
      "text/html": [
       "<div>\n",
       "<style scoped>\n",
       "    .dataframe tbody tr th:only-of-type {\n",
       "        vertical-align: middle;\n",
       "    }\n",
       "\n",
       "    .dataframe tbody tr th {\n",
       "        vertical-align: top;\n",
       "    }\n",
       "\n",
       "    .dataframe thead th {\n",
       "        text-align: right;\n",
       "    }\n",
       "</style>\n",
       "<table border=\"1\" class=\"dataframe\">\n",
       "  <thead>\n",
       "    <tr style=\"text-align: right;\">\n",
       "      <th></th>\n",
       "      <th>sample_mean</th>\n",
       "      <th>population_mean</th>\n",
       "      <th>Error_(Absolute)</th>\n",
       "    </tr>\n",
       "  </thead>\n",
       "  <tbody>\n",
       "    <tr>\n",
       "      <th>Stratified Sampling</th>\n",
       "      <td>161.3956</td>\n",
       "      <td>161.440357</td>\n",
       "      <td>0.044757</td>\n",
       "    </tr>\n",
       "    <tr>\n",
       "      <th>Simple Random Sampling</th>\n",
       "      <td>161.6517</td>\n",
       "      <td>161.440357</td>\n",
       "      <td>0.211343</td>\n",
       "    </tr>\n",
       "    <tr>\n",
       "      <th>Systematic Sampling</th>\n",
       "      <td>161.7063</td>\n",
       "      <td>161.440357</td>\n",
       "      <td>0.265943</td>\n",
       "    </tr>\n",
       "  </tbody>\n",
       "</table>\n",
       "</div>"
      ],
      "text/plain": [
       "                        sample_mean  population_mean  Error_(Absolute)\n",
       "Stratified Sampling        161.3956       161.440357          0.044757\n",
       "Simple Random Sampling     161.6517       161.440357          0.211343\n",
       "Systematic Sampling        161.7063       161.440357          0.265943"
      ]
     },
     "execution_count": 18,
     "metadata": {},
     "output_type": "execute_result"
    }
   ],
   "source": [
    "Weight_Result['Error_(Absolute)']=[abs(SRS_Weight_Mean-Population_Mean_weight),\n",
    "                                   abs(systematic_Sample_Weight_Mean-Population_Mean_weight),\n",
    "                                   abs(stratifiedRandomSampleWeightMean-Population_Mean_weight),\n",
    "                                  ]\n",
    "Weight_Result.sort_values(by='Error_(Absolute)')"
   ]
  },
  {
   "cell_type": "markdown",
   "id": "dc42212f",
   "metadata": {},
   "source": [
    "# Sampling error for Height Feature"
   ]
  },
  {
   "cell_type": "code",
   "execution_count": 19,
   "id": "6fb0a04e",
   "metadata": {},
   "outputs": [
    {
     "data": {
      "text/html": [
       "<div>\n",
       "<style scoped>\n",
       "    .dataframe tbody tr th:only-of-type {\n",
       "        vertical-align: middle;\n",
       "    }\n",
       "\n",
       "    .dataframe tbody tr th {\n",
       "        vertical-align: top;\n",
       "    }\n",
       "\n",
       "    .dataframe thead th {\n",
       "        text-align: right;\n",
       "    }\n",
       "</style>\n",
       "<table border=\"1\" class=\"dataframe\">\n",
       "  <thead>\n",
       "    <tr style=\"text-align: right;\">\n",
       "      <th></th>\n",
       "      <th>sample_mean</th>\n",
       "      <th>population_mean</th>\n",
       "      <th>Error_(Absolute)</th>\n",
       "    </tr>\n",
       "  </thead>\n",
       "  <tbody>\n",
       "    <tr>\n",
       "      <th>Simple Random Sampling</th>\n",
       "      <td>66.4031</td>\n",
       "      <td>66.36756</td>\n",
       "      <td>0.035540</td>\n",
       "    </tr>\n",
       "    <tr>\n",
       "      <th>Systematic Sampling</th>\n",
       "      <td>66.4264</td>\n",
       "      <td>66.36756</td>\n",
       "      <td>0.058824</td>\n",
       "    </tr>\n",
       "    <tr>\n",
       "      <th>Stratified Sampling</th>\n",
       "      <td>66.4271</td>\n",
       "      <td>66.36756</td>\n",
       "      <td>0.059540</td>\n",
       "    </tr>\n",
       "  </tbody>\n",
       "</table>\n",
       "</div>"
      ],
      "text/plain": [
       "                        sample_mean  population_mean  Error_(Absolute)\n",
       "Simple Random Sampling      66.4031         66.36756          0.035540\n",
       "Systematic Sampling         66.4264         66.36756          0.058824\n",
       "Stratified Sampling         66.4271         66.36756          0.059540"
      ]
     },
     "execution_count": 19,
     "metadata": {},
     "output_type": "execute_result"
    }
   ],
   "source": [
    "Height_Result['Error_(Absolute)']=[abs(SRS_Height_Mean-Population_Mean_height),\n",
    "                                   abs(systematic_Sample_Height_Mean-Population_Mean_height),\n",
    "                                   abs(stratifiedRandomSampleHeightMean-Population_Mean_height),\n",
    "                                  ]\n",
    "Height_Result.sort_values(by='Error_(Absolute)')"
   ]
  }
 ],
 "metadata": {
  "kernelspec": {
   "display_name": "Python 3 (ipykernel)",
   "language": "python",
   "name": "python3"
  },
  "language_info": {
   "codemirror_mode": {
    "name": "ipython",
    "version": 3
   },
   "file_extension": ".py",
   "mimetype": "text/x-python",
   "name": "python",
   "nbconvert_exporter": "python",
   "pygments_lexer": "ipython3",
   "version": "3.9.12"
  }
 },
 "nbformat": 4,
 "nbformat_minor": 5
}
