{
 "cells": [
  {
   "cell_type": "markdown",
   "id": "da583812",
   "metadata": {},
   "source": [
    "# Assignement-6\n",
    "# Yenumula Pavan Gopal Mourya\n",
    "# CSE ( 6th Semester)"
   ]
  },
  {
   "cell_type": "code",
   "execution_count": 1,
   "id": "92ef2cc2",
   "metadata": {},
   "outputs": [],
   "source": [
    "import pandas as pd\n",
    "import csv"
   ]
  },
  {
   "cell_type": "code",
   "execution_count": 2,
   "id": "94082098",
   "metadata": {},
   "outputs": [
    {
     "data": {
      "text/html": [
       "<div>\n",
       "<style scoped>\n",
       "    .dataframe tbody tr th:only-of-type {\n",
       "        vertical-align: middle;\n",
       "    }\n",
       "\n",
       "    .dataframe tbody tr th {\n",
       "        vertical-align: top;\n",
       "    }\n",
       "\n",
       "    .dataframe thead th {\n",
       "        text-align: right;\n",
       "    }\n",
       "</style>\n",
       "<table border=\"1\" class=\"dataframe\">\n",
       "  <thead>\n",
       "    <tr style=\"text-align: right;\">\n",
       "      <th></th>\n",
       "      <th>Country Name</th>\n",
       "      <th>Country Code</th>\n",
       "      <th>Indicator Name</th>\n",
       "      <th>Indicator Code</th>\n",
       "      <th>1960</th>\n",
       "      <th>1961</th>\n",
       "      <th>1962</th>\n",
       "      <th>1963</th>\n",
       "      <th>1964</th>\n",
       "      <th>1965</th>\n",
       "      <th>...</th>\n",
       "      <th>2012</th>\n",
       "      <th>2013</th>\n",
       "      <th>2014</th>\n",
       "      <th>2015</th>\n",
       "      <th>2016</th>\n",
       "      <th>2017</th>\n",
       "      <th>2018</th>\n",
       "      <th>2019</th>\n",
       "      <th>2020</th>\n",
       "      <th>2021</th>\n",
       "    </tr>\n",
       "  </thead>\n",
       "  <tbody>\n",
       "    <tr>\n",
       "      <th>0</th>\n",
       "      <td>Aruba</td>\n",
       "      <td>ABW</td>\n",
       "      <td>Population, female</td>\n",
       "      <td>SP.POP.TOTL.FE.IN</td>\n",
       "      <td>27773.0</td>\n",
       "      <td>28380.0</td>\n",
       "      <td>28820.0</td>\n",
       "      <td>29218.0</td>\n",
       "      <td>29570.0</td>\n",
       "      <td>29875.0</td>\n",
       "      <td>...</td>\n",
       "      <td>53480.0</td>\n",
       "      <td>53953.0</td>\n",
       "      <td>54403.0</td>\n",
       "      <td>54828.0</td>\n",
       "      <td>55224.0</td>\n",
       "      <td>55591.0</td>\n",
       "      <td>55935.0</td>\n",
       "      <td>56254.0</td>\n",
       "      <td>56373.0</td>\n",
       "      <td>56330.0</td>\n",
       "    </tr>\n",
       "    <tr>\n",
       "      <th>1</th>\n",
       "      <td>Africa Eastern and Southern</td>\n",
       "      <td>AFE</td>\n",
       "      <td>Population, female</td>\n",
       "      <td>SP.POP.TOTL.FE.IN</td>\n",
       "      <td>65853220.0</td>\n",
       "      <td>67606287.0</td>\n",
       "      <td>69457112.0</td>\n",
       "      <td>71375643.0</td>\n",
       "      <td>73386167.0</td>\n",
       "      <td>75478396.0</td>\n",
       "      <td>...</td>\n",
       "      <td>279546577.0</td>\n",
       "      <td>287224786.0</td>\n",
       "      <td>295088995.0</td>\n",
       "      <td>303195759.0</td>\n",
       "      <td>311387262.0</td>\n",
       "      <td>319637226.0</td>\n",
       "      <td>328158974.0</td>\n",
       "      <td>336930831.0</td>\n",
       "      <td>345889729.0</td>\n",
       "      <td>354855082.0</td>\n",
       "    </tr>\n",
       "    <tr>\n",
       "      <th>2</th>\n",
       "      <td>Afghanistan</td>\n",
       "      <td>AFG</td>\n",
       "      <td>Population, female</td>\n",
       "      <td>SP.POP.TOTL.FE.IN</td>\n",
       "      <td>4145945.0</td>\n",
       "      <td>4233771.0</td>\n",
       "      <td>4326881.0</td>\n",
       "      <td>4424511.0</td>\n",
       "      <td>4526691.0</td>\n",
       "      <td>4634341.0</td>\n",
       "      <td>...</td>\n",
       "      <td>15067373.0</td>\n",
       "      <td>15594637.0</td>\n",
       "      <td>16172321.0</td>\n",
       "      <td>16682054.0</td>\n",
       "      <td>17115346.0</td>\n",
       "      <td>17614722.0</td>\n",
       "      <td>18136922.0</td>\n",
       "      <td>18679089.0</td>\n",
       "      <td>19279930.0</td>\n",
       "      <td>19844584.0</td>\n",
       "    </tr>\n",
       "    <tr>\n",
       "      <th>3</th>\n",
       "      <td>Africa Western and Central</td>\n",
       "      <td>AFW</td>\n",
       "      <td>Population, female</td>\n",
       "      <td>SP.POP.TOTL.FE.IN</td>\n",
       "      <td>48802898.0</td>\n",
       "      <td>49850088.0</td>\n",
       "      <td>50928609.0</td>\n",
       "      <td>52044907.0</td>\n",
       "      <td>53196730.0</td>\n",
       "      <td>54389295.0</td>\n",
       "      <td>...</td>\n",
       "      <td>187755307.0</td>\n",
       "      <td>192900081.0</td>\n",
       "      <td>198163527.0</td>\n",
       "      <td>203513873.0</td>\n",
       "      <td>208980433.0</td>\n",
       "      <td>214578994.0</td>\n",
       "      <td>220253839.0</td>\n",
       "      <td>226004857.0</td>\n",
       "      <td>231877590.0</td>\n",
       "      <td>237813580.0</td>\n",
       "    </tr>\n",
       "    <tr>\n",
       "      <th>4</th>\n",
       "      <td>Angola</td>\n",
       "      <td>AGO</td>\n",
       "      <td>Population, female</td>\n",
       "      <td>SP.POP.TOTL.FE.IN</td>\n",
       "      <td>2670229.0</td>\n",
       "      <td>2704394.0</td>\n",
       "      <td>2742689.0</td>\n",
       "      <td>2779473.0</td>\n",
       "      <td>2812590.0</td>\n",
       "      <td>2838939.0</td>\n",
       "      <td>...</td>\n",
       "      <td>12770743.0</td>\n",
       "      <td>13252938.0</td>\n",
       "      <td>13746371.0</td>\n",
       "      <td>14248799.0</td>\n",
       "      <td>14764575.0</td>\n",
       "      <td>15293335.0</td>\n",
       "      <td>15828040.0</td>\n",
       "      <td>16370553.0</td>\n",
       "      <td>16910989.0</td>\n",
       "      <td>17452283.0</td>\n",
       "    </tr>\n",
       "  </tbody>\n",
       "</table>\n",
       "<p>5 rows × 66 columns</p>\n",
       "</div>"
      ],
      "text/plain": [
       "                  Country Name Country Code      Indicator Name  \\\n",
       "0                        Aruba          ABW  Population, female   \n",
       "1  Africa Eastern and Southern          AFE  Population, female   \n",
       "2                  Afghanistan          AFG  Population, female   \n",
       "3   Africa Western and Central          AFW  Population, female   \n",
       "4                       Angola          AGO  Population, female   \n",
       "\n",
       "      Indicator Code        1960        1961        1962        1963  \\\n",
       "0  SP.POP.TOTL.FE.IN     27773.0     28380.0     28820.0     29218.0   \n",
       "1  SP.POP.TOTL.FE.IN  65853220.0  67606287.0  69457112.0  71375643.0   \n",
       "2  SP.POP.TOTL.FE.IN   4145945.0   4233771.0   4326881.0   4424511.0   \n",
       "3  SP.POP.TOTL.FE.IN  48802898.0  49850088.0  50928609.0  52044907.0   \n",
       "4  SP.POP.TOTL.FE.IN   2670229.0   2704394.0   2742689.0   2779473.0   \n",
       "\n",
       "         1964        1965  ...         2012         2013         2014  \\\n",
       "0     29570.0     29875.0  ...      53480.0      53953.0      54403.0   \n",
       "1  73386167.0  75478396.0  ...  279546577.0  287224786.0  295088995.0   \n",
       "2   4526691.0   4634341.0  ...   15067373.0   15594637.0   16172321.0   \n",
       "3  53196730.0  54389295.0  ...  187755307.0  192900081.0  198163527.0   \n",
       "4   2812590.0   2838939.0  ...   12770743.0   13252938.0   13746371.0   \n",
       "\n",
       "          2015         2016         2017         2018         2019  \\\n",
       "0      54828.0      55224.0      55591.0      55935.0      56254.0   \n",
       "1  303195759.0  311387262.0  319637226.0  328158974.0  336930831.0   \n",
       "2   16682054.0   17115346.0   17614722.0   18136922.0   18679089.0   \n",
       "3  203513873.0  208980433.0  214578994.0  220253839.0  226004857.0   \n",
       "4   14248799.0   14764575.0   15293335.0   15828040.0   16370553.0   \n",
       "\n",
       "          2020         2021  \n",
       "0      56373.0      56330.0  \n",
       "1  345889729.0  354855082.0  \n",
       "2   19279930.0   19844584.0  \n",
       "3  231877590.0  237813580.0  \n",
       "4   16910989.0   17452283.0  \n",
       "\n",
       "[5 rows x 66 columns]"
      ]
     },
     "execution_count": 2,
     "metadata": {},
     "output_type": "execute_result"
    }
   ],
   "source": [
    "# We were facing errors while trying to read the entire csv file\n",
    "# Reason the first 4 rows were like some footer . SO, let's skip them manually\n",
    "population_df=pd.read_csv('population_of_female.csv',skiprows=[0,1,2,3])\n",
    "# And while displaying the data . I have observed some unnecessary column in the last\n",
    "# So, discard the last column without effecting any thing as shown below\n",
    "population_df=population_df.iloc[:,:-1]\n",
    "population_df.head()"
   ]
  },
  {
   "cell_type": "code",
   "execution_count": 3,
   "id": "de2f22a2",
   "metadata": {},
   "outputs": [
    {
     "data": {
      "text/html": [
       "<div>\n",
       "<style scoped>\n",
       "    .dataframe tbody tr th:only-of-type {\n",
       "        vertical-align: middle;\n",
       "    }\n",
       "\n",
       "    .dataframe tbody tr th {\n",
       "        vertical-align: top;\n",
       "    }\n",
       "\n",
       "    .dataframe thead th {\n",
       "        text-align: right;\n",
       "    }\n",
       "</style>\n",
       "<table border=\"1\" class=\"dataframe\">\n",
       "  <thead>\n",
       "    <tr style=\"text-align: right;\">\n",
       "      <th></th>\n",
       "      <th>Country Name</th>\n",
       "      <th>Country Code</th>\n",
       "      <th>Indicator Name</th>\n",
       "      <th>Indicator Code</th>\n",
       "      <th>1960</th>\n",
       "      <th>1961</th>\n",
       "      <th>1962</th>\n",
       "      <th>1963</th>\n",
       "      <th>1964</th>\n",
       "      <th>1965</th>\n",
       "      <th>...</th>\n",
       "      <th>2012</th>\n",
       "      <th>2013</th>\n",
       "      <th>2014</th>\n",
       "      <th>2015</th>\n",
       "      <th>2016</th>\n",
       "      <th>2017</th>\n",
       "      <th>2018</th>\n",
       "      <th>2019</th>\n",
       "      <th>2020</th>\n",
       "      <th>2021</th>\n",
       "    </tr>\n",
       "  </thead>\n",
       "  <tbody>\n",
       "    <tr>\n",
       "      <th>0</th>\n",
       "      <td>Aruba</td>\n",
       "      <td>ABW</td>\n",
       "      <td>Primary completion rate, female (% of relevant...</td>\n",
       "      <td>SE.PRM.CMPT.FE.ZS</td>\n",
       "      <td>NaN</td>\n",
       "      <td>NaN</td>\n",
       "      <td>NaN</td>\n",
       "      <td>NaN</td>\n",
       "      <td>NaN</td>\n",
       "      <td>NaN</td>\n",
       "      <td>...</td>\n",
       "      <td>NaN</td>\n",
       "      <td>101.255234</td>\n",
       "      <td>101.55587</td>\n",
       "      <td>NaN</td>\n",
       "      <td>NaN</td>\n",
       "      <td>NaN</td>\n",
       "      <td>NaN</td>\n",
       "      <td>NaN</td>\n",
       "      <td>NaN</td>\n",
       "      <td>NaN</td>\n",
       "    </tr>\n",
       "    <tr>\n",
       "      <th>1</th>\n",
       "      <td>Africa Eastern and Southern</td>\n",
       "      <td>AFE</td>\n",
       "      <td>Primary completion rate, female (% of relevant...</td>\n",
       "      <td>SE.PRM.CMPT.FE.ZS</td>\n",
       "      <td>NaN</td>\n",
       "      <td>NaN</td>\n",
       "      <td>NaN</td>\n",
       "      <td>NaN</td>\n",
       "      <td>NaN</td>\n",
       "      <td>NaN</td>\n",
       "      <td>...</td>\n",
       "      <td>65.88575</td>\n",
       "      <td>66.028069</td>\n",
       "      <td>66.26329</td>\n",
       "      <td>66.115013</td>\n",
       "      <td>66.932449</td>\n",
       "      <td>68.167793</td>\n",
       "      <td>69.499100</td>\n",
       "      <td>69.990547</td>\n",
       "      <td>70.825378</td>\n",
       "      <td>NaN</td>\n",
       "    </tr>\n",
       "    <tr>\n",
       "      <th>2</th>\n",
       "      <td>Afghanistan</td>\n",
       "      <td>AFG</td>\n",
       "      <td>Primary completion rate, female (% of relevant...</td>\n",
       "      <td>SE.PRM.CMPT.FE.ZS</td>\n",
       "      <td>NaN</td>\n",
       "      <td>NaN</td>\n",
       "      <td>NaN</td>\n",
       "      <td>NaN</td>\n",
       "      <td>NaN</td>\n",
       "      <td>NaN</td>\n",
       "      <td>...</td>\n",
       "      <td>NaN</td>\n",
       "      <td>NaN</td>\n",
       "      <td>NaN</td>\n",
       "      <td>NaN</td>\n",
       "      <td>63.604069</td>\n",
       "      <td>66.688881</td>\n",
       "      <td>67.129303</td>\n",
       "      <td>65.761513</td>\n",
       "      <td>NaN</td>\n",
       "      <td>NaN</td>\n",
       "    </tr>\n",
       "    <tr>\n",
       "      <th>3</th>\n",
       "      <td>Africa Western and Central</td>\n",
       "      <td>AFW</td>\n",
       "      <td>Primary completion rate, female (% of relevant...</td>\n",
       "      <td>SE.PRM.CMPT.FE.ZS</td>\n",
       "      <td>NaN</td>\n",
       "      <td>NaN</td>\n",
       "      <td>NaN</td>\n",
       "      <td>NaN</td>\n",
       "      <td>NaN</td>\n",
       "      <td>NaN</td>\n",
       "      <td>...</td>\n",
       "      <td>64.04483</td>\n",
       "      <td>64.063690</td>\n",
       "      <td>64.65110</td>\n",
       "      <td>65.822060</td>\n",
       "      <td>66.608093</td>\n",
       "      <td>66.362289</td>\n",
       "      <td>66.722878</td>\n",
       "      <td>66.927361</td>\n",
       "      <td>67.231689</td>\n",
       "      <td>NaN</td>\n",
       "    </tr>\n",
       "    <tr>\n",
       "      <th>4</th>\n",
       "      <td>Angola</td>\n",
       "      <td>AGO</td>\n",
       "      <td>Primary completion rate, female (% of relevant...</td>\n",
       "      <td>SE.PRM.CMPT.FE.ZS</td>\n",
       "      <td>NaN</td>\n",
       "      <td>NaN</td>\n",
       "      <td>NaN</td>\n",
       "      <td>NaN</td>\n",
       "      <td>NaN</td>\n",
       "      <td>NaN</td>\n",
       "      <td>...</td>\n",
       "      <td>NaN</td>\n",
       "      <td>NaN</td>\n",
       "      <td>NaN</td>\n",
       "      <td>NaN</td>\n",
       "      <td>NaN</td>\n",
       "      <td>NaN</td>\n",
       "      <td>NaN</td>\n",
       "      <td>NaN</td>\n",
       "      <td>NaN</td>\n",
       "      <td>NaN</td>\n",
       "    </tr>\n",
       "  </tbody>\n",
       "</table>\n",
       "<p>5 rows × 66 columns</p>\n",
       "</div>"
      ],
      "text/plain": [
       "                  Country Name Country Code  \\\n",
       "0                        Aruba          ABW   \n",
       "1  Africa Eastern and Southern          AFE   \n",
       "2                  Afghanistan          AFG   \n",
       "3   Africa Western and Central          AFW   \n",
       "4                       Angola          AGO   \n",
       "\n",
       "                                      Indicator Name     Indicator Code  1960  \\\n",
       "0  Primary completion rate, female (% of relevant...  SE.PRM.CMPT.FE.ZS   NaN   \n",
       "1  Primary completion rate, female (% of relevant...  SE.PRM.CMPT.FE.ZS   NaN   \n",
       "2  Primary completion rate, female (% of relevant...  SE.PRM.CMPT.FE.ZS   NaN   \n",
       "3  Primary completion rate, female (% of relevant...  SE.PRM.CMPT.FE.ZS   NaN   \n",
       "4  Primary completion rate, female (% of relevant...  SE.PRM.CMPT.FE.ZS   NaN   \n",
       "\n",
       "   1961  1962  1963  1964  1965  ...      2012        2013       2014  \\\n",
       "0   NaN   NaN   NaN   NaN   NaN  ...       NaN  101.255234  101.55587   \n",
       "1   NaN   NaN   NaN   NaN   NaN  ...  65.88575   66.028069   66.26329   \n",
       "2   NaN   NaN   NaN   NaN   NaN  ...       NaN         NaN        NaN   \n",
       "3   NaN   NaN   NaN   NaN   NaN  ...  64.04483   64.063690   64.65110   \n",
       "4   NaN   NaN   NaN   NaN   NaN  ...       NaN         NaN        NaN   \n",
       "\n",
       "        2015       2016       2017       2018       2019       2020  2021  \n",
       "0        NaN        NaN        NaN        NaN        NaN        NaN   NaN  \n",
       "1  66.115013  66.932449  68.167793  69.499100  69.990547  70.825378   NaN  \n",
       "2        NaN  63.604069  66.688881  67.129303  65.761513        NaN   NaN  \n",
       "3  65.822060  66.608093  66.362289  66.722878  66.927361  67.231689   NaN  \n",
       "4        NaN        NaN        NaN        NaN        NaN        NaN   NaN  \n",
       "\n",
       "[5 rows x 66 columns]"
      ]
     },
     "execution_count": 3,
     "metadata": {},
     "output_type": "execute_result"
    }
   ],
   "source": [
    "# We were facing errors while trying to read the entire csv file\n",
    "# Reason the first 4 rows were like some footer . SO, let's skip them manually\n",
    "pcr_df=pd.read_csv('primary_completion_rate_female.csv',skiprows=[0,1,2,3])\n",
    "# And while displaying the data . I have observed some unnecessary column in the last\n",
    "# So, discard the last column without effecting any thing as shown below\n",
    "pcr_df=pcr_df.iloc[:,:-1]\n",
    "pcr_df.head()"
   ]
  },
  {
   "cell_type": "markdown",
   "id": "aee80a86",
   "metadata": {},
   "source": [
    "# Task-1"
   ]
  },
  {
   "cell_type": "code",
   "execution_count": 4,
   "id": "775d40ec",
   "metadata": {},
   "outputs": [
    {
     "data": {
      "text/plain": [
       "0      96.203056\n",
       "1      52.899081\n",
       "2      28.085734\n",
       "3      54.108691\n",
       "4      34.111267\n",
       "         ...    \n",
       "261          NaN\n",
       "262    48.823942\n",
       "263    88.622194\n",
       "264    67.949980\n",
       "265    91.649270\n",
       "Name: average_rate, Length: 266, dtype: float64"
      ]
     },
     "execution_count": 4,
     "metadata": {},
     "output_type": "execute_result"
    }
   ],
   "source": [
    "pcr_df['average_rate']=pcr_df.iloc[:,4:].mean(axis=1)\n",
    "pcr_df['average_rate']"
   ]
  },
  {
   "cell_type": "markdown",
   "id": "2b4e7af5",
   "metadata": {},
   "source": [
    "# Task-2"
   ]
  },
  {
   "cell_type": "code",
   "execution_count": 5,
   "id": "d81bce95",
   "metadata": {},
   "outputs": [
    {
     "data": {
      "text/plain": [
       "1"
      ]
     },
     "execution_count": 5,
     "metadata": {},
     "output_type": "execute_result"
    }
   ],
   "source": [
    "population_df['2021'].isna().sum() # Finding if there is any Country with no value\n",
    "# We have found out that there is atleast one such Country with no entry"
   ]
  },
  {
   "cell_type": "code",
   "execution_count": 6,
   "id": "6438166a",
   "metadata": {},
   "outputs": [
    {
     "data": {
      "text/html": [
       "<div>\n",
       "<style scoped>\n",
       "    .dataframe tbody tr th:only-of-type {\n",
       "        vertical-align: middle;\n",
       "    }\n",
       "\n",
       "    .dataframe tbody tr th {\n",
       "        vertical-align: top;\n",
       "    }\n",
       "\n",
       "    .dataframe thead th {\n",
       "        text-align: right;\n",
       "    }\n",
       "</style>\n",
       "<table border=\"1\" class=\"dataframe\">\n",
       "  <thead>\n",
       "    <tr style=\"text-align: right;\">\n",
       "      <th></th>\n",
       "      <th>Country Name</th>\n",
       "      <th>Country Code</th>\n",
       "      <th>Indicator Name</th>\n",
       "      <th>Indicator Code</th>\n",
       "      <th>1960</th>\n",
       "      <th>1961</th>\n",
       "      <th>1962</th>\n",
       "      <th>1963</th>\n",
       "      <th>1964</th>\n",
       "      <th>1965</th>\n",
       "      <th>...</th>\n",
       "      <th>2012</th>\n",
       "      <th>2013</th>\n",
       "      <th>2014</th>\n",
       "      <th>2015</th>\n",
       "      <th>2016</th>\n",
       "      <th>2017</th>\n",
       "      <th>2018</th>\n",
       "      <th>2019</th>\n",
       "      <th>2020</th>\n",
       "      <th>2021</th>\n",
       "    </tr>\n",
       "  </thead>\n",
       "  <tbody>\n",
       "    <tr>\n",
       "      <th>110</th>\n",
       "      <td>Not classified</td>\n",
       "      <td>INX</td>\n",
       "      <td>Population, female</td>\n",
       "      <td>SP.POP.TOTL.FE.IN</td>\n",
       "      <td>NaN</td>\n",
       "      <td>NaN</td>\n",
       "      <td>NaN</td>\n",
       "      <td>NaN</td>\n",
       "      <td>NaN</td>\n",
       "      <td>NaN</td>\n",
       "      <td>...</td>\n",
       "      <td>NaN</td>\n",
       "      <td>NaN</td>\n",
       "      <td>NaN</td>\n",
       "      <td>NaN</td>\n",
       "      <td>NaN</td>\n",
       "      <td>NaN</td>\n",
       "      <td>NaN</td>\n",
       "      <td>NaN</td>\n",
       "      <td>NaN</td>\n",
       "      <td>NaN</td>\n",
       "    </tr>\n",
       "  </tbody>\n",
       "</table>\n",
       "<p>1 rows × 66 columns</p>\n",
       "</div>"
      ],
      "text/plain": [
       "       Country Name Country Code      Indicator Name     Indicator Code  1960  \\\n",
       "110  Not classified          INX  Population, female  SP.POP.TOTL.FE.IN   NaN   \n",
       "\n",
       "     1961  1962  1963  1964  1965  ...  2012  2013  2014  2015  2016  2017  \\\n",
       "110   NaN   NaN   NaN   NaN   NaN  ...   NaN   NaN   NaN   NaN   NaN   NaN   \n",
       "\n",
       "     2018  2019  2020  2021  \n",
       "110   NaN   NaN   NaN   NaN  \n",
       "\n",
       "[1 rows x 66 columns]"
      ]
     },
     "execution_count": 6,
     "metadata": {},
     "output_type": "execute_result"
    }
   ],
   "source": [
    "population_df[population_df['2021'].isna()] #  Now finding out the countries\n",
    "# From the above query we found out that there is only one such country\n",
    "# And nothing has been mentioned except it's Country Code (Even name of the country is not mentioned)"
   ]
  },
  {
   "cell_type": "code",
   "execution_count": 7,
   "id": "60a77b07",
   "metadata": {},
   "outputs": [
    {
     "data": {
      "text/plain": [
       "62"
      ]
     },
     "execution_count": 7,
     "metadata": {},
     "output_type": "execute_result"
    }
   ],
   "source": [
    "population_df.loc[110].isna().sum() #  No entry for any year to consider the latest one . SO it is better if we would discard this row"
   ]
  },
  {
   "cell_type": "code",
   "execution_count": 8,
   "id": "feceeec1",
   "metadata": {},
   "outputs": [
    {
     "data": {
      "text/plain": [
       "(266, 66)"
      ]
     },
     "execution_count": 8,
     "metadata": {},
     "output_type": "execute_result"
    }
   ],
   "source": [
    "population_df.shape"
   ]
  },
  {
   "cell_type": "code",
   "execution_count": 9,
   "id": "cf9f9af3",
   "metadata": {},
   "outputs": [],
   "source": [
    "# Discarding the 110 row as it is useless . No entry for even one column\n",
    "# Useless\n",
    "population_df = population_df.dropna(subset=[\"2021\"])"
   ]
  },
  {
   "cell_type": "markdown",
   "id": "05419d1a",
   "metadata": {},
   "source": [
    "## Note : 2021 years data is the latest data we have the data for this year for every country . Except one anamolous country which was latter removed as the row was completely useless not helping us in any way"
   ]
  },
  {
   "cell_type": "code",
   "execution_count": 10,
   "id": "2d690845",
   "metadata": {},
   "outputs": [
    {
     "data": {
      "text/plain": [
       "(265, 66)"
      ]
     },
     "execution_count": 10,
     "metadata": {},
     "output_type": "execute_result"
    }
   ],
   "source": [
    "population_df.shape"
   ]
  },
  {
   "cell_type": "code",
   "execution_count": 11,
   "id": "26186440",
   "metadata": {},
   "outputs": [
    {
     "data": {
      "text/plain": [
       "0          56330.0\n",
       "1      354855082.0\n",
       "2       19844584.0\n",
       "3      237813580.0\n",
       "4       17452283.0\n",
       "          ...     \n",
       "261       895801.0\n",
       "262     16313210.0\n",
       "263     30497646.0\n",
       "264      9864121.0\n",
       "265      8449834.0\n",
       "Name: Latest Population, Length: 265, dtype: float64"
      ]
     },
     "execution_count": 11,
     "metadata": {},
     "output_type": "execute_result"
    }
   ],
   "source": [
    "# pcr_df.head()\n",
    "population_df['Latest Population']=population_df['2021']\n",
    "population_df['Latest Population']"
   ]
  },
  {
   "cell_type": "markdown",
   "id": "b5fcadec",
   "metadata": {},
   "source": [
    "# Task-3"
   ]
  },
  {
   "cell_type": "code",
   "execution_count": 12,
   "id": "4581ecce",
   "metadata": {},
   "outputs": [
    {
     "data": {
      "text/plain": [
       "77.01066757323034"
      ]
     },
     "execution_count": 12,
     "metadata": {},
     "output_type": "execute_result"
    }
   ],
   "source": [
    "pcr_df['weight']=population_df['Latest Population']/population_df['Latest Population'].sum()\n",
    "# pcr_df\n",
    "\n",
    "firstOp=(pcr_df['average_rate']*pcr_df['weight'])\n",
    "#print(tmp1)\n",
    "secondOp=firstOp/pcr_df['weight'].sum()\n",
    "Result=secondOp.sum()\n",
    "Result"
   ]
  },
  {
   "cell_type": "markdown",
   "id": "d3edd15a",
   "metadata": {},
   "source": [
    "# Task-4"
   ]
  },
  {
   "cell_type": "code",
   "execution_count": 13,
   "id": "23068e35",
   "metadata": {},
   "outputs": [
    {
     "data": {
      "text/plain": [
       "90.96608239251218"
      ]
     },
     "execution_count": 13,
     "metadata": {},
     "output_type": "execute_result"
    }
   ],
   "source": [
    "# Median of average primary completion rate\n",
    "Median=pcr_df['average_rate'].median()\n",
    "Median"
   ]
  },
  {
   "cell_type": "markdown",
   "id": "27792f63",
   "metadata": {},
   "source": [
    "# Task-5"
   ]
  },
  {
   "cell_type": "code",
   "execution_count": 14,
   "id": "30480b44",
   "metadata": {},
   "outputs": [
    {
     "data": {
      "text/plain": [
       "29.470233932195967"
      ]
     },
     "execution_count": 14,
     "metadata": {},
     "output_type": "execute_result"
    }
   ],
   "source": [
    "# Inter Quartile Range =  Quartile3- Quartile1\n",
    "IQR=pcr_df[\"average_rate\"].quantile(0.75)-pcr_df[\"average_rate\"].quantile(0.25)\n",
    "IQR"
   ]
  },
  {
   "cell_type": "markdown",
   "id": "d9259510",
   "metadata": {},
   "source": [
    "# Task-6"
   ]
  },
  {
   "cell_type": "code",
   "execution_count": 15,
   "id": "730c9775",
   "metadata": {},
   "outputs": [
    {
     "data": {
      "text/plain": [
       "512.9310266943031"
      ]
     },
     "execution_count": 15,
     "metadata": {},
     "output_type": "execute_result"
    }
   ],
   "source": [
    "# Variance\n",
    "Variance=pcr_df['average_rate'].var()\n",
    "Variance"
   ]
  }
 ],
 "metadata": {
  "kernelspec": {
   "display_name": "Python 3 (ipykernel)",
   "language": "python",
   "name": "python3"
  },
  "language_info": {
   "codemirror_mode": {
    "name": "ipython",
    "version": 3
   },
   "file_extension": ".py",
   "mimetype": "text/x-python",
   "name": "python",
   "nbconvert_exporter": "python",
   "pygments_lexer": "ipython3",
   "version": "3.9.12"
  }
 },
 "nbformat": 4,
 "nbformat_minor": 5
}
