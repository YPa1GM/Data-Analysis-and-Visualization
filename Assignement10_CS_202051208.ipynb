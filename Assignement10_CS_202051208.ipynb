{
 "cells": [
  {
   "cell_type": "markdown",
   "id": "387d2dfd",
   "metadata": {},
   "source": [
    "# Yenumula Pavan Gopal Mourya\n",
    "# DAV Assignement - 10\n",
    "# 202051208"
   ]
  },
  {
   "cell_type": "code",
   "execution_count": 1,
   "id": "c80c336b",
   "metadata": {},
   "outputs": [],
   "source": [
    "import seaborn as sns\n",
    "import pandas as pd\n",
    "import matplotlib.pyplot as plt\n",
    "import numpy as np\n",
    "import random\n",
    "from scipy import stats\n",
    "import matplotlib.pyplot as plt"
   ]
  },
  {
   "cell_type": "code",
   "execution_count": 2,
   "id": "02c2ebe1",
   "metadata": {},
   "outputs": [
    {
     "data": {
      "text/html": [
       "<div>\n",
       "<style scoped>\n",
       "    .dataframe tbody tr th:only-of-type {\n",
       "        vertical-align: middle;\n",
       "    }\n",
       "\n",
       "    .dataframe tbody tr th {\n",
       "        vertical-align: top;\n",
       "    }\n",
       "\n",
       "    .dataframe thead th {\n",
       "        text-align: right;\n",
       "    }\n",
       "</style>\n",
       "<table border=\"1\" class=\"dataframe\">\n",
       "  <thead>\n",
       "    <tr style=\"text-align: right;\">\n",
       "      <th></th>\n",
       "      <th>Set No.</th>\n",
       "      <th>Set Name</th>\n",
       "      <th>Player</th>\n",
       "      <th>Country</th>\n",
       "      <th>State Association</th>\n",
       "      <th>Age</th>\n",
       "      <th>Specialism</th>\n",
       "      <th>Batting</th>\n",
       "      <th>Bowling</th>\n",
       "      <th>IPL</th>\n",
       "      <th>Previous IPLTeam(s)</th>\n",
       "      <th>2021 Team</th>\n",
       "      <th>C/U/A</th>\n",
       "      <th>Base Price</th>\n",
       "      <th>Sold Price</th>\n",
       "      <th>New Franchise</th>\n",
       "      <th>Bid</th>\n",
       "    </tr>\n",
       "  </thead>\n",
       "  <tbody>\n",
       "    <tr>\n",
       "      <th>0</th>\n",
       "      <td>1</td>\n",
       "      <td>M</td>\n",
       "      <td>Trent Boult</td>\n",
       "      <td>New Zealand</td>\n",
       "      <td>NaN</td>\n",
       "      <td>32</td>\n",
       "      <td>BOWLER</td>\n",
       "      <td>RHB</td>\n",
       "      <td>LEFT ARM Fast Medium</td>\n",
       "      <td>62.0</td>\n",
       "      <td>SRH, KKR, DD,MI</td>\n",
       "      <td>MI</td>\n",
       "      <td>Capped</td>\n",
       "      <td>200</td>\n",
       "      <td>8 CR</td>\n",
       "      <td>Rajasthan Royals</td>\n",
       "      <td>Sold</td>\n",
       "    </tr>\n",
       "    <tr>\n",
       "      <th>1</th>\n",
       "      <td>1</td>\n",
       "      <td>M</td>\n",
       "      <td>Pat Cummins</td>\n",
       "      <td>Australia</td>\n",
       "      <td>NaN</td>\n",
       "      <td>28</td>\n",
       "      <td>ALL-ROUNDER</td>\n",
       "      <td>RHB</td>\n",
       "      <td>RIGHT ARM Fast</td>\n",
       "      <td>37.0</td>\n",
       "      <td>DD, MI, KKR</td>\n",
       "      <td>KKR</td>\n",
       "      <td>Capped</td>\n",
       "      <td>200</td>\n",
       "      <td>7.25 CR</td>\n",
       "      <td>Kolkata Knight Riders</td>\n",
       "      <td>Sold</td>\n",
       "    </tr>\n",
       "    <tr>\n",
       "      <th>2</th>\n",
       "      <td>1</td>\n",
       "      <td>M</td>\n",
       "      <td>Shikhar Dhawan</td>\n",
       "      <td>India</td>\n",
       "      <td>DDCA</td>\n",
       "      <td>36</td>\n",
       "      <td>BATSMAN</td>\n",
       "      <td>LHB</td>\n",
       "      <td>-</td>\n",
       "      <td>192.0</td>\n",
       "      <td>DCH, MI, SRH, DC</td>\n",
       "      <td>DC</td>\n",
       "      <td>Capped</td>\n",
       "      <td>200</td>\n",
       "      <td>8.25 CR</td>\n",
       "      <td>Punjab Kings</td>\n",
       "      <td>Sold</td>\n",
       "    </tr>\n",
       "    <tr>\n",
       "      <th>3</th>\n",
       "      <td>1</td>\n",
       "      <td>M</td>\n",
       "      <td>Shreyas Iyer</td>\n",
       "      <td>India</td>\n",
       "      <td>MCA</td>\n",
       "      <td>27</td>\n",
       "      <td>BATSMAN</td>\n",
       "      <td>RHB</td>\n",
       "      <td>RIGHT ARM Leg Spin</td>\n",
       "      <td>87.0</td>\n",
       "      <td>DC</td>\n",
       "      <td>DC</td>\n",
       "      <td>Capped</td>\n",
       "      <td>200</td>\n",
       "      <td>12.25 CR</td>\n",
       "      <td>Kolkata Knight Riders</td>\n",
       "      <td>Sold</td>\n",
       "    </tr>\n",
       "    <tr>\n",
       "      <th>4</th>\n",
       "      <td>1</td>\n",
       "      <td>M</td>\n",
       "      <td>Kagiso Rabada</td>\n",
       "      <td>South Africa</td>\n",
       "      <td>NaN</td>\n",
       "      <td>26</td>\n",
       "      <td>BOWLER</td>\n",
       "      <td>LHB</td>\n",
       "      <td>RIGHT ARM Fast</td>\n",
       "      <td>50.0</td>\n",
       "      <td>DC</td>\n",
       "      <td>DC</td>\n",
       "      <td>Capped</td>\n",
       "      <td>200</td>\n",
       "      <td>9.25 CR</td>\n",
       "      <td>Punjab Kings</td>\n",
       "      <td>Sold</td>\n",
       "    </tr>\n",
       "  </tbody>\n",
       "</table>\n",
       "</div>"
      ],
      "text/plain": [
       "   Set No. Set Name          Player       Country State Association  Age  \\\n",
       "0        1        M     Trent Boult   New Zealand               NaN   32   \n",
       "1        1        M     Pat Cummins     Australia               NaN   28   \n",
       "2        1        M  Shikhar Dhawan         India              DDCA   36   \n",
       "3        1        M    Shreyas Iyer         India               MCA   27   \n",
       "4        1        M   Kagiso Rabada  South Africa               NaN   26   \n",
       "\n",
       "    Specialism Batting               Bowling    IPL Previous IPLTeam(s)  \\\n",
       "0       BOWLER     RHB  LEFT ARM Fast Medium   62.0     SRH, KKR, DD,MI   \n",
       "1  ALL-ROUNDER     RHB        RIGHT ARM Fast   37.0         DD, MI, KKR   \n",
       "2      BATSMAN     LHB                     -  192.0    DCH, MI, SRH, DC   \n",
       "3      BATSMAN     RHB    RIGHT ARM Leg Spin   87.0                  DC   \n",
       "4       BOWLER     LHB        RIGHT ARM Fast   50.0                  DC   \n",
       "\n",
       "  2021 Team   C/U/A  Base Price Sold Price          New Franchise   Bid  \n",
       "0        MI  Capped         200       8 CR       Rajasthan Royals  Sold  \n",
       "1       KKR  Capped         200    7.25 CR  Kolkata Knight Riders  Sold  \n",
       "2        DC  Capped         200    8.25 CR           Punjab Kings  Sold  \n",
       "3        DC  Capped         200   12.25 CR  Kolkata Knight Riders  Sold  \n",
       "4        DC  Capped         200    9.25 CR           Punjab Kings  Sold  "
      ]
     },
     "execution_count": 2,
     "metadata": {},
     "output_type": "execute_result"
    }
   ],
   "source": [
    "Ipl_Df=pd.read_csv('IPL_Auction_2022_FullList.csv')\n",
    "CC_Df=pd.read_csv('cookie_cats.csv')\n",
    "Ipl_Df.head()"
   ]
  },
  {
   "cell_type": "markdown",
   "id": "83684c14",
   "metadata": {},
   "source": [
    "# Task-1"
   ]
  },
  {
   "cell_type": "code",
   "execution_count": 3,
   "id": "1f957338",
   "metadata": {},
   "outputs": [
    {
     "name": "stdout",
     "output_type": "stream",
     "text": [
      "t value :  0.8854\n",
      "p value :  0.188\n"
     ]
    }
   ],
   "source": [
    "Sum_GameRound_Gate_30=CC_Df[CC_Df.version=='gate_30']['sum_gamerounds']\n",
    "Sum_GameRound_Gate_40=CC_Df[CC_Df.version=='gate_40']['sum_gamerounds']\n",
    "Outcome = stats.ttest_ind(Sum_GameRound_Gate_30,Sum_GameRound_Gate_40,equal_var=False)\n",
    "print('t value : ',round(Outcome.statistic,4))\n",
    "print('p value : ',round(Outcome.pvalue/ 2,4))"
   ]
  },
  {
   "cell_type": "markdown",
   "id": "a81c9710",
   "metadata": {},
   "source": [
    "# Task-2"
   ]
  },
  {
   "cell_type": "code",
   "execution_count": 4,
   "id": "c4f7c8d0",
   "metadata": {},
   "outputs": [
    {
     "name": "stdout",
     "output_type": "stream",
     "text": [
      "Batting       LHB  RHB\n",
      "Specialism            \n",
      "ALL-ROUNDER    75  152\n",
      "BATSMAN        36   66\n",
      "BOWLER         50  152\n",
      "WICKETKEEPER   13   45\n"
     ]
    }
   ],
   "source": [
    "Contigency_Table=pd.crosstab(Ipl_Df.Specialism,Ipl_Df.Batting,margins=False)\n",
    "print(Contigency_Table)"
   ]
  },
  {
   "cell_type": "code",
   "execution_count": 5,
   "id": "23d6168c",
   "metadata": {},
   "outputs": [
    {
     "name": "stdout",
     "output_type": "stream",
     "text": [
      "chisq :  6.5977\n",
      "p value :  0.0859\n",
      "degree of freedom : 3\n"
     ]
    }
   ],
   "source": [
    "chisq, pvalue, df, expected = stats.chi2_contingency(Contigency_Table)\n",
    "print('chisq : ',round(chisq,4))\n",
    "print('p value : ',round(pvalue,4))\n",
    "print('degree of freedom :',df)\n",
    "# print(expected)"
   ]
  },
  {
   "cell_type": "code",
   "execution_count": 6,
   "id": "66ed40b6",
   "metadata": {},
   "outputs": [
    {
     "data": {
      "image/png": "[encoded data removed]",
      "text/plain": [
       "<Figure size 432x288 with 1 Axes>"
      ]
     },
     "metadata": {
      "needs_background": "light"
     },
     "output_type": "display_data"
    }
   ],
   "source": [
    "# Perform Chi square test on data in contingency table.\n",
    "data_chi = stats.chi2.rvs(Contigency_Table)\n",
    "sns.histplot(data_chi,kde=True)\n",
    "plt.show()"
   ]
  }
 ],
 "metadata": {
  "kernelspec": {
   "display_name": "Python 3 (ipykernel)",
   "language": "python",
   "name": "python3"
  },
  "language_info": {
   "codemirror_mode": {
    "name": "ipython",
    "version": 3
   },
   "file_extension": ".py",
   "mimetype": "text/x-python",
   "name": "python",
   "nbconvert_exporter": "python",
   "pygments_lexer": "ipython3",
   "version": "3.9.12"
  }
 },
 "nbformat": 4,
 "nbformat_minor": 5
}
