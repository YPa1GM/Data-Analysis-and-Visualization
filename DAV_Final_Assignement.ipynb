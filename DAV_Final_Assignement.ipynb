{
 "cells": [
  {
   "cell_type": "code",
   "execution_count": 1,
   "id": "24ba6880",
   "metadata": {},
   "outputs": [
    {
     "name": "stdout",
     "output_type": "stream",
     "text": [
      "Requirement already satisfied: joypy in c:\\users\\admin\\anaconda\\lib\\site-packages (0.2.6)\n",
      "Requirement already satisfied: matplotlib in c:\\users\\admin\\anaconda\\lib\\site-packages (from joypy) (3.5.1)\n",
      "Requirement already satisfied: pandas>=0.20.0 in c:\\users\\admin\\anaconda\\lib\\site-packages (from joypy) (1.4.2)\n",
      "Requirement already satisfied: scipy>=0.11.0 in c:\\users\\admin\\anaconda\\lib\\site-packages (from joypy) (1.7.3)\n",
      "Requirement already satisfied: numpy>=1.16.5 in c:\\users\\admin\\anaconda\\lib\\site-packages (from joypy) (1.22.4)\n",
      "Requirement already satisfied: pytz>=2020.1 in c:\\users\\admin\\anaconda\\lib\\site-packages (from pandas>=0.20.0->joypy) (2021.3)\n",
      "Requirement already satisfied: python-dateutil>=2.8.1 in c:\\users\\admin\\anaconda\\lib\\site-packages (from pandas>=0.20.0->joypy) (2.8.2)\n",
      "Requirement already satisfied: six>=1.5 in c:\\users\\admin\\anaconda\\lib\\site-packages (from python-dateutil>=2.8.1->pandas>=0.20.0->joypy) (1.16.0)\n",
      "Requirement already satisfied: packaging>=20.0 in c:\\users\\admin\\anaconda\\lib\\site-packages (from matplotlib->joypy) (21.3)\n",
      "Requirement already satisfied: fonttools>=4.22.0 in c:\\users\\admin\\anaconda\\lib\\site-packages (from matplotlib->joypy) (4.25.0)\n",
      "Requirement already satisfied: pillow>=6.2.0 in c:\\users\\admin\\anaconda\\lib\\site-packages (from matplotlib->joypy) (9.0.1)\n",
      "Requirement already satisfied: kiwisolver>=1.0.1 in c:\\users\\admin\\anaconda\\lib\\site-packages (from matplotlib->joypy) (1.3.2)\n",
      "Requirement already satisfied: cycler>=0.10 in c:\\users\\admin\\anaconda\\lib\\site-packages (from matplotlib->joypy) (0.11.0)\n",
      "Requirement already satisfied: pyparsing>=2.2.1 in c:\\users\\admin\\anaconda\\lib\\site-packages (from matplotlib->joypy) (3.0.4)\n",
      "Requirement already satisfied: squarify in c:\\users\\admin\\anaconda\\lib\\site-packages (0.4.3)\n",
      "Requirement already satisfied: plotly in c:\\users\\admin\\anaconda\\lib\\site-packages (5.6.0)\n",
      "Requirement already satisfied: six in c:\\users\\admin\\anaconda\\lib\\site-packages (from plotly) (1.16.0)\n",
      "Requirement already satisfied: tenacity>=6.2.0 in c:\\users\\admin\\anaconda\\lib\\site-packages (from plotly) (8.0.1)\n"
     ]
    }
   ],
   "source": [
    "import pandas as pd\n",
    "import numpy as np\n",
    "import plotly.express as px\n",
    "import seaborn as sns\n",
    "import matplotlib.pyplot as plt\n",
    "from matplotlib import transforms\n",
    "from statsmodels.graphics.mosaicplot import mosaic\n",
    "import sys\n",
    "from statsmodels.graphics.gofplots import qqplot\n",
    "from joypy import joyplot \n",
    "import squarify \n",
    "import plotly.express as px \n",
    "from itertools import product\n",
    "!pip install joypy\n",
    "!pip install squarify\n",
    "!pip install plotly"
   ]
  },
  {
   "cell_type": "code",
   "execution_count": 2,
   "id": "11d940a1",
   "metadata": {},
   "outputs": [],
   "source": [
    "df=pd.read_csv('Islander_data.csv')"
   ]
  },
  {
   "cell_type": "code",
   "execution_count": 3,
   "id": "ea861e3b",
   "metadata": {},
   "outputs": [
    {
     "data": {
      "text/html": [
       "<div>\n",
       "<style scoped>\n",
       "    .dataframe tbody tr th:only-of-type {\n",
       "        vertical-align: middle;\n",
       "    }\n",
       "\n",
       "    .dataframe tbody tr th {\n",
       "        vertical-align: top;\n",
       "    }\n",
       "\n",
       "    .dataframe thead th {\n",
       "        text-align: right;\n",
       "    }\n",
       "</style>\n",
       "<table border=\"1\" class=\"dataframe\">\n",
       "  <thead>\n",
       "    <tr style=\"text-align: right;\">\n",
       "      <th></th>\n",
       "      <th>first_name</th>\n",
       "      <th>last_name</th>\n",
       "      <th>age</th>\n",
       "      <th>Happy_Sad_group</th>\n",
       "      <th>Dosage</th>\n",
       "      <th>Drug</th>\n",
       "      <th>Mem_Score_Before</th>\n",
       "      <th>Mem_Score_After</th>\n",
       "      <th>Diff</th>\n",
       "    </tr>\n",
       "  </thead>\n",
       "  <tbody>\n",
       "    <tr>\n",
       "      <th>0</th>\n",
       "      <td>Bastian</td>\n",
       "      <td>Carrasco</td>\n",
       "      <td>25</td>\n",
       "      <td>H</td>\n",
       "      <td>1</td>\n",
       "      <td>A</td>\n",
       "      <td>63.5</td>\n",
       "      <td>61.2</td>\n",
       "      <td>-2.3</td>\n",
       "    </tr>\n",
       "    <tr>\n",
       "      <th>1</th>\n",
       "      <td>Evan</td>\n",
       "      <td>Carrasco</td>\n",
       "      <td>52</td>\n",
       "      <td>S</td>\n",
       "      <td>1</td>\n",
       "      <td>A</td>\n",
       "      <td>41.6</td>\n",
       "      <td>40.7</td>\n",
       "      <td>-0.9</td>\n",
       "    </tr>\n",
       "    <tr>\n",
       "      <th>2</th>\n",
       "      <td>Florencia</td>\n",
       "      <td>Carrasco</td>\n",
       "      <td>29</td>\n",
       "      <td>H</td>\n",
       "      <td>1</td>\n",
       "      <td>A</td>\n",
       "      <td>59.7</td>\n",
       "      <td>55.1</td>\n",
       "      <td>-4.6</td>\n",
       "    </tr>\n",
       "    <tr>\n",
       "      <th>3</th>\n",
       "      <td>Holly</td>\n",
       "      <td>Carrasco</td>\n",
       "      <td>50</td>\n",
       "      <td>S</td>\n",
       "      <td>1</td>\n",
       "      <td>A</td>\n",
       "      <td>51.7</td>\n",
       "      <td>51.2</td>\n",
       "      <td>-0.5</td>\n",
       "    </tr>\n",
       "    <tr>\n",
       "      <th>4</th>\n",
       "      <td>Justin</td>\n",
       "      <td>Carrasco</td>\n",
       "      <td>52</td>\n",
       "      <td>H</td>\n",
       "      <td>1</td>\n",
       "      <td>A</td>\n",
       "      <td>47.0</td>\n",
       "      <td>47.1</td>\n",
       "      <td>0.1</td>\n",
       "    </tr>\n",
       "  </tbody>\n",
       "</table>\n",
       "</div>"
      ],
      "text/plain": [
       "  first_name last_name  age Happy_Sad_group  Dosage Drug  Mem_Score_Before  \\\n",
       "0    Bastian  Carrasco   25               H       1    A              63.5   \n",
       "1       Evan  Carrasco   52               S       1    A              41.6   \n",
       "2  Florencia  Carrasco   29               H       1    A              59.7   \n",
       "3      Holly  Carrasco   50               S       1    A              51.7   \n",
       "4     Justin  Carrasco   52               H       1    A              47.0   \n",
       "\n",
       "   Mem_Score_After  Diff  \n",
       "0             61.2  -2.3  \n",
       "1             40.7  -0.9  \n",
       "2             55.1  -4.6  \n",
       "3             51.2  -0.5  \n",
       "4             47.1   0.1  "
      ]
     },
     "execution_count": 3,
     "metadata": {},
     "output_type": "execute_result"
    }
   ],
   "source": [
    "df.head()"
   ]
  },
  {
   "cell_type": "markdown",
   "id": "f5e7d92e",
   "metadata": {},
   "source": [
    "# Task-1\n",
    "Finding the correlation between the Age and Diff column"
   ]
  },
  {
   "cell_type": "code",
   "execution_count": 4,
   "id": "a927b007",
   "metadata": {},
   "outputs": [
    {
     "name": "stdout",
     "output_type": "stream",
     "text": [
      "The Correlation between Age and Diff columns : -0.009293328126756114\n"
     ]
    }
   ],
   "source": [
    "corr = df.age.corr(df.Diff)\n",
    "\n",
    "print('The Correlation between Age and Diff columns :', corr)"
   ]
  },
  {
   "cell_type": "markdown",
   "id": "e8885297",
   "metadata": {},
   "source": [
    "# Task-2 :"
   ]
  },
  {
   "cell_type": "code",
   "execution_count": 5,
   "id": "105f71f7",
   "metadata": {},
   "outputs": [
    {
     "data": {
      "text/plain": [
       "0.022563601067710243"
      ]
     },
     "execution_count": 5,
     "metadata": {},
     "output_type": "execute_result"
    }
   ],
   "source": [
    "import math\n",
    "number_of_samples=10000 #R\n",
    "size_of_sample=20 #n\n",
    "sample_mean=[]\n",
    "for i in range(number_of_samples):\n",
    "    sample_mean.append(np.mean(np.random.choice(df.Diff.values,size_of_sample,replace=False)))\n",
    "#sample_mean\n",
    "standard_error=np.std(sample_mean)/math.sqrt(len(sample_mean))\n",
    "standard_error"
   ]
  },
  {
   "cell_type": "code",
   "execution_count": 6,
   "id": "d94adaee",
   "metadata": {},
   "outputs": [
    {
     "data": {
      "text/plain": [
       "0.022563601067710243"
      ]
     },
     "execution_count": 6,
     "metadata": {},
     "output_type": "execute_result"
    },
    {
     "data": {
      "image/png": "[encoded data removed]",
      "text/plain": [
       "<Figure size 432x288 with 1 Axes>"
      ]
     },
     "metadata": {
      "needs_background": "light"
     },
     "output_type": "display_data"
    }
   ],
   "source": [
    "_=plt.hist(sample_mean,bins=100)\n",
    "standard_error=np.std(sample_mean)/math.sqrt(len(sample_mean))\n",
    "standard_error"
   ]
  },
  {
   "cell_type": "markdown",
   "id": "911b3e69",
   "metadata": {},
   "source": [
    "# Task-3 :\n",
    "Perform Bootstrap on \"Diff\" with following parameters,\n",
    "## number_of_samples=10000\n",
    "## size_of_sample=20,\n",
    "## Metric = Mean\n",
    "## What is 95% confidence interval after performing Bootstrap? \n",
    "## Write down upper and lower limits."
   ]
  },
  {
   "cell_type": "code",
   "execution_count": 7,
   "id": "ba34d2f5",
   "metadata": {},
   "outputs": [
    {
     "name": "stdout",
     "output_type": "stream",
     "text": [
      "Lower level : -1.5000000000000004\n",
      "Upper level : 7.454999999999998\n"
     ]
    }
   ],
   "source": [
    "CI=0.95\n",
    "sorted_means=np.sort(sample_mean)\n",
    "l=len(sorted_means)\n",
    "idx=math.floor(l*((1-CI)/2))\n",
    "\n",
    "print(\"Lower level :\", sorted_means[idx])\n",
    "print(\"Upper level :\", sorted_means[l-idx-1])"
   ]
  },
  {
   "cell_type": "markdown",
   "id": "beb0c048",
   "metadata": {},
   "source": [
    "# Task-4 : Create Contingency Table between \"Happy_Sad_group\"\n",
    " (as index) and \"Drug\" (columns). \n",
    "What is the count of Sad (S in index) subjects who are given drug A? "
   ]
  },
  {
   "cell_type": "code",
   "execution_count": 8,
   "id": "e0043261",
   "metadata": {},
   "outputs": [],
   "source": [
    "# df1=df[df.Happy_Sad_group=='S']\n",
    "# df1=df1[df.]"
   ]
  },
  {
   "cell_type": "code",
   "execution_count": 9,
   "id": "6b511b58",
   "metadata": {},
   "outputs": [
    {
     "name": "stdout",
     "output_type": "stream",
     "text": [
      "Drug              A   S   T\n",
      "Happy_Sad_group            \n",
      "H                33  33  33\n",
      "S                34  33  32\n"
     ]
    }
   ],
   "source": [
    "contingency_table = pd.crosstab(df['Happy_Sad_group'], df['Drug'])\n",
    "\n",
    "print(contingency_table)"
   ]
  },
  {
   "cell_type": "code",
   "execution_count": 10,
   "id": "deca16c1",
   "metadata": {},
   "outputs": [
    {
     "data": {
      "text/plain": [
       "34"
      ]
     },
     "execution_count": 10,
     "metadata": {},
     "output_type": "execute_result"
    }
   ],
   "source": [
    "count = contingency_table.loc['S', 'A']\n",
    "count"
   ]
  },
  {
   "cell_type": "code",
   "execution_count": 11,
   "id": "49f9eae3",
   "metadata": {},
   "outputs": [
    {
     "data": {
      "text/html": [
       "<div>\n",
       "<style scoped>\n",
       "    .dataframe tbody tr th:only-of-type {\n",
       "        vertical-align: middle;\n",
       "    }\n",
       "\n",
       "    .dataframe tbody tr th {\n",
       "        vertical-align: top;\n",
       "    }\n",
       "\n",
       "    .dataframe thead th {\n",
       "        text-align: right;\n",
       "    }\n",
       "</style>\n",
       "<table border=\"1\" class=\"dataframe\">\n",
       "  <thead>\n",
       "    <tr style=\"text-align: right;\">\n",
       "      <th></th>\n",
       "      <th>first_name</th>\n",
       "      <th>last_name</th>\n",
       "      <th>age</th>\n",
       "      <th>Happy_Sad_group</th>\n",
       "      <th>Dosage</th>\n",
       "      <th>Drug</th>\n",
       "      <th>Mem_Score_Before</th>\n",
       "      <th>Mem_Score_After</th>\n",
       "      <th>Diff</th>\n",
       "    </tr>\n",
       "  </thead>\n",
       "  <tbody>\n",
       "    <tr>\n",
       "      <th>0</th>\n",
       "      <td>Bastian</td>\n",
       "      <td>Carrasco</td>\n",
       "      <td>25</td>\n",
       "      <td>H</td>\n",
       "      <td>1</td>\n",
       "      <td>A</td>\n",
       "      <td>63.5</td>\n",
       "      <td>61.2</td>\n",
       "      <td>-2.3</td>\n",
       "    </tr>\n",
       "    <tr>\n",
       "      <th>1</th>\n",
       "      <td>Evan</td>\n",
       "      <td>Carrasco</td>\n",
       "      <td>52</td>\n",
       "      <td>S</td>\n",
       "      <td>1</td>\n",
       "      <td>A</td>\n",
       "      <td>41.6</td>\n",
       "      <td>40.7</td>\n",
       "      <td>-0.9</td>\n",
       "    </tr>\n",
       "    <tr>\n",
       "      <th>2</th>\n",
       "      <td>Florencia</td>\n",
       "      <td>Carrasco</td>\n",
       "      <td>29</td>\n",
       "      <td>H</td>\n",
       "      <td>1</td>\n",
       "      <td>A</td>\n",
       "      <td>59.7</td>\n",
       "      <td>55.1</td>\n",
       "      <td>-4.6</td>\n",
       "    </tr>\n",
       "    <tr>\n",
       "      <th>3</th>\n",
       "      <td>Holly</td>\n",
       "      <td>Carrasco</td>\n",
       "      <td>50</td>\n",
       "      <td>S</td>\n",
       "      <td>1</td>\n",
       "      <td>A</td>\n",
       "      <td>51.7</td>\n",
       "      <td>51.2</td>\n",
       "      <td>-0.5</td>\n",
       "    </tr>\n",
       "    <tr>\n",
       "      <th>4</th>\n",
       "      <td>Justin</td>\n",
       "      <td>Carrasco</td>\n",
       "      <td>52</td>\n",
       "      <td>H</td>\n",
       "      <td>1</td>\n",
       "      <td>A</td>\n",
       "      <td>47.0</td>\n",
       "      <td>47.1</td>\n",
       "      <td>0.1</td>\n",
       "    </tr>\n",
       "    <tr>\n",
       "      <th>...</th>\n",
       "      <td>...</td>\n",
       "      <td>...</td>\n",
       "      <td>...</td>\n",
       "      <td>...</td>\n",
       "      <td>...</td>\n",
       "      <td>...</td>\n",
       "      <td>...</td>\n",
       "      <td>...</td>\n",
       "      <td>...</td>\n",
       "    </tr>\n",
       "    <tr>\n",
       "      <th>62</th>\n",
       "      <td>Ariane</td>\n",
       "      <td>Steiner</td>\n",
       "      <td>27</td>\n",
       "      <td>S</td>\n",
       "      <td>3</td>\n",
       "      <td>A</td>\n",
       "      <td>54.0</td>\n",
       "      <td>60.0</td>\n",
       "      <td>6.0</td>\n",
       "    </tr>\n",
       "    <tr>\n",
       "      <th>63</th>\n",
       "      <td>Naoto</td>\n",
       "      <td>Steiner</td>\n",
       "      <td>39</td>\n",
       "      <td>H</td>\n",
       "      <td>3</td>\n",
       "      <td>A</td>\n",
       "      <td>61.6</td>\n",
       "      <td>88.5</td>\n",
       "      <td>26.9</td>\n",
       "    </tr>\n",
       "    <tr>\n",
       "      <th>64</th>\n",
       "      <td>Jade</td>\n",
       "      <td>Summers</td>\n",
       "      <td>40</td>\n",
       "      <td>S</td>\n",
       "      <td>3</td>\n",
       "      <td>A</td>\n",
       "      <td>59.8</td>\n",
       "      <td>79.7</td>\n",
       "      <td>19.9</td>\n",
       "    </tr>\n",
       "    <tr>\n",
       "      <th>65</th>\n",
       "      <td>Kevin</td>\n",
       "      <td>Takahashi</td>\n",
       "      <td>34</td>\n",
       "      <td>H</td>\n",
       "      <td>3</td>\n",
       "      <td>A</td>\n",
       "      <td>64.1</td>\n",
       "      <td>90.0</td>\n",
       "      <td>25.9</td>\n",
       "    </tr>\n",
       "    <tr>\n",
       "      <th>66</th>\n",
       "      <td>Tomax</td>\n",
       "      <td>Takahashi</td>\n",
       "      <td>37</td>\n",
       "      <td>S</td>\n",
       "      <td>3</td>\n",
       "      <td>A</td>\n",
       "      <td>53.3</td>\n",
       "      <td>75.2</td>\n",
       "      <td>21.9</td>\n",
       "    </tr>\n",
       "  </tbody>\n",
       "</table>\n",
       "<p>67 rows × 9 columns</p>\n",
       "</div>"
      ],
      "text/plain": [
       "   first_name  last_name  age Happy_Sad_group  Dosage Drug  Mem_Score_Before  \\\n",
       "0     Bastian   Carrasco   25               H       1    A              63.5   \n",
       "1        Evan   Carrasco   52               S       1    A              41.6   \n",
       "2   Florencia   Carrasco   29               H       1    A              59.7   \n",
       "3       Holly   Carrasco   50               S       1    A              51.7   \n",
       "4      Justin   Carrasco   52               H       1    A              47.0   \n",
       "..        ...        ...  ...             ...     ...  ...               ...   \n",
       "62     Ariane    Steiner   27               S       3    A              54.0   \n",
       "63      Naoto    Steiner   39               H       3    A              61.6   \n",
       "64       Jade    Summers   40               S       3    A              59.8   \n",
       "65      Kevin  Takahashi   34               H       3    A              64.1   \n",
       "66      Tomax  Takahashi   37               S       3    A              53.3   \n",
       "\n",
       "    Mem_Score_After  Diff  \n",
       "0              61.2  -2.3  \n",
       "1              40.7  -0.9  \n",
       "2              55.1  -4.6  \n",
       "3              51.2  -0.5  \n",
       "4              47.1   0.1  \n",
       "..              ...   ...  \n",
       "62             60.0   6.0  \n",
       "63             88.5  26.9  \n",
       "64             79.7  19.9  \n",
       "65             90.0  25.9  \n",
       "66             75.2  21.9  \n",
       "\n",
       "[67 rows x 9 columns]"
      ]
     },
     "execution_count": 11,
     "metadata": {},
     "output_type": "execute_result"
    }
   ],
   "source": [
    "df2=df[df.Drug=='A']\n",
    "df2\n",
    "# df1[df1.Happy_Sad_group=='S']\n",
    "# df1.set_index('Happy_Sad_group')\n",
    "# df1"
   ]
  },
  {
   "cell_type": "markdown",
   "id": "01485050",
   "metadata": {},
   "source": [
    "# Task-5 : Perform \"Statistical\" Chi-square test on contingency table created in\n",
    "above question. What is sum of chi-square value and p-value?"
   ]
  },
  {
   "cell_type": "code",
   "execution_count": 20,
   "id": "50c96a5d",
   "metadata": {},
   "outputs": [
    {
     "name": "stdout",
     "output_type": "stream",
     "text": [
      "Observed chi2: 0.0303\n",
      "p-value: 0.9986\n"
     ]
    },
    {
     "data": {
      "text/plain": [
       "1.0289192296193"
      ]
     },
     "execution_count": 20,
     "metadata": {},
     "output_type": "execute_result"
    }
   ],
   "source": [
    "from scipy import stats\n",
    "chisq, pvalue, df, expected = stats.chi2_contingency(contingency_table)\n",
    "print(f'Observed chi2: {chisq:.4f}')\n",
    "print(f'p-value: {pvalue:.4f}')\n",
    "chisq+pvalue"
   ]
  },
  {
   "cell_type": "code",
   "execution_count": 13,
   "id": "6385285a",
   "metadata": {},
   "outputs": [
    {
     "data": {
      "text/html": [
       "<div>\n",
       "<style scoped>\n",
       "    .dataframe tbody tr th:only-of-type {\n",
       "        vertical-align: middle;\n",
       "    }\n",
       "\n",
       "    .dataframe tbody tr th {\n",
       "        vertical-align: top;\n",
       "    }\n",
       "\n",
       "    .dataframe thead th {\n",
       "        text-align: right;\n",
       "    }\n",
       "</style>\n",
       "<table border=\"1\" class=\"dataframe\">\n",
       "  <thead>\n",
       "    <tr style=\"text-align: right;\">\n",
       "      <th>Drug</th>\n",
       "      <th>A</th>\n",
       "      <th>S</th>\n",
       "      <th>T</th>\n",
       "      <th>column_sum</th>\n",
       "    </tr>\n",
       "    <tr>\n",
       "      <th>Happy_Sad_group</th>\n",
       "      <th></th>\n",
       "      <th></th>\n",
       "      <th></th>\n",
       "      <th></th>\n",
       "    </tr>\n",
       "  </thead>\n",
       "  <tbody>\n",
       "    <tr>\n",
       "      <th>H</th>\n",
       "      <td>33</td>\n",
       "      <td>33</td>\n",
       "      <td>33</td>\n",
       "      <td>99</td>\n",
       "    </tr>\n",
       "    <tr>\n",
       "      <th>S</th>\n",
       "      <td>34</td>\n",
       "      <td>33</td>\n",
       "      <td>32</td>\n",
       "      <td>99</td>\n",
       "    </tr>\n",
       "  </tbody>\n",
       "</table>\n",
       "</div>"
      ],
      "text/plain": [
       "Drug              A   S   T  column_sum\n",
       "Happy_Sad_group                        \n",
       "H                33  33  33          99\n",
       "S                34  33  32          99"
      ]
     },
     "execution_count": 13,
     "metadata": {},
     "output_type": "execute_result"
    }
   ],
   "source": [
    "contingency_table[\"column_sum\"]=contingency_table.sum(axis=1)\n",
    "contingency_table"
   ]
  },
  {
   "cell_type": "markdown",
   "id": "ddbb4e04",
   "metadata": {},
   "source": [
    "# Task-6 :"
   ]
  },
  {
   "cell_type": "code",
   "execution_count": 14,
   "id": "ca986204",
   "metadata": {},
   "outputs": [
    {
     "name": "stdout",
     "output_type": "stream",
     "text": [
      "32.5\n"
     ]
    }
   ],
   "source": [
    "# assuming the contingency table is named contingency_table\n",
    "row_total = contingency_table.loc['H', :].sum()\n",
    "col_total = contingency_table.loc[:, 'T'].sum()\n",
    "total = contingency_table.values.sum()\n",
    "\n",
    "expected = (row_total * col_total) / total\n",
    "print(expected)"
   ]
  },
  {
   "cell_type": "code",
   "execution_count": 15,
   "id": "5da11384",
   "metadata": {},
   "outputs": [
    {
     "name": "stdout",
     "output_type": "stream",
     "text": [
      "Pearson residual for Happy subjects who are given drug T: 0.08770580193070293\n"
     ]
    }
   ],
   "source": [
    "# assuming the contingency table is named contingency_table\n",
    "observed = contingency_table.loc['H', 'T']\n",
    "expected = (row_total * col_total) / total\n",
    "residual = (observed - expected) / (expected ** 0.5)\n",
    "\n",
    "print(\"Pearson residual for Happy subjects who are given drug T:\", residual)\n"
   ]
  },
  {
   "cell_type": "code",
   "execution_count": 16,
   "id": "b8338e6a",
   "metadata": {},
   "outputs": [
    {
     "data": {
      "text/plain": [
       "0.08770580193070293"
      ]
     },
     "execution_count": 16,
     "metadata": {},
     "output_type": "execute_result"
    }
   ],
   "source": [
    "(residual) = (observed - expected) / np.sqrt(expected)\n",
    "residual"
   ]
  },
  {
   "cell_type": "markdown",
   "id": "39940fc9",
   "metadata": {},
   "source": [
    "# Task-7 : Perform chi-squared test using \"Permutation\" method. \n",
    "Perform 10000 permutation to get p value. \n",
    "What is p value and your conclusion? \n"
   ]
  },
  {
   "cell_type": "code",
   "execution_count": 17,
   "id": "056c9877",
   "metadata": {},
   "outputs": [],
   "source": [
    "def chi2(observed, expected):\n",
    "    pearson_residuals = []\n",
    "    for row, expect in zip(observed, expected):\n",
    "        tmp=[]\n",
    "        for observe in row:\n",
    "            R=(observe - expect) ** 2 / expect\n",
    "            tmp.append(R)\n",
    "        pearson_residuals.append(tmp)\n",
    "    #print(pearson_residuals)\n",
    "    X=np.sum(pearson_residuals)\n",
    "    #print(X)\n",
    "    return X"
   ]
  },
  {
   "cell_type": "code",
   "execution_count": 18,
   "id": "66ea9591",
   "metadata": {},
   "outputs": [
    {
     "name": "stdout",
     "output_type": "stream",
     "text": [
      "Observed chi2: 3617.5160\n"
     ]
    }
   ],
   "source": [
    "H = 99 / 3\n",
    "S = 1000 - H\n",
    "expected = [H, S]\n",
    "chi2observed = chi2(contingency_table.values, expected)\n",
    "\n",
    "print(f'Observed chi2: {chi2observed:.4f}')"
   ]
  },
  {
   "cell_type": "code",
   "execution_count": 19,
   "id": "092ab3f6",
   "metadata": {},
   "outputs": [
    {
     "name": "stdout",
     "output_type": "stream",
     "text": [
      "P-value: 1.0\n"
     ]
    }
   ],
   "source": [
    "import numpy as np\n",
    "from scipy.stats import chi2_contingency\n",
    "\n",
    "# assuming the contingency table is named contingency_table\n",
    "chi2, p_value, dof, expected = chi2_contingency(contingency_table)\n",
    "\n",
    "observed_chi2 = chi2\n",
    "\n",
    "\n",
    "# assuming the contingency table is named contingency_table\n",
    "n_permutations = 10000\n",
    "chi2_values = np.zeros(n_permutations)\n",
    "\n",
    "observed_table = contingency_table.values\n",
    "total_obs = observed_table.sum()\n",
    "\n",
    "for i in range(n_permutations):\n",
    "    permuted_table = np.random.permutation(observed_table)\n",
    "    permuted_totals = permuted_table.sum(axis=0)\n",
    "    permuted_table = permuted_table / permuted_totals * permuted_totals.sum()\n",
    "    chi2_values[i] = ((permuted_table - observed_table) ** 2 / permuted_table).sum()\n",
    "\n",
    "p_value = (chi2_values >= observed_chi2).sum() / n_permutations\n",
    "\n",
    "print(\"P-value:\", p_value)\n"
   ]
  },
  {
   "cell_type": "code",
   "execution_count": null,
   "id": "7585b74d",
   "metadata": {},
   "outputs": [],
   "source": []
  }
 ],
 "metadata": {
  "kernelspec": {
   "display_name": "Python 3 (ipykernel)",
   "language": "python",
   "name": "python3"
  },
  "language_info": {
   "codemirror_mode": {
    "name": "ipython",
    "version": 3
   },
   "file_extension": ".py",
   "mimetype": "text/x-python",
   "name": "python",
   "nbconvert_exporter": "python",
   "pygments_lexer": "ipython3",
   "version": "3.9.12"
  }
 },
 "nbformat": 4,
 "nbformat_minor": 5
}
