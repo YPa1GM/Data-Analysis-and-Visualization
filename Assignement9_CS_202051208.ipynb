{
 "cells": [
  {
   "cell_type": "code",
   "execution_count": 25,
   "id": "d9a54b07",
   "metadata": {},
   "outputs": [],
   "source": [
    "import pandas as pd\n",
    "import matplotlib.pyplot as plt\n",
    "import numpy as np\n",
    "import seaborn as sns\n",
    "import random"
   ]
  },
  {
   "cell_type": "markdown",
   "id": "d839c722",
   "metadata": {},
   "source": [
    "# Yenumula Pavan \n",
    "# 202051208\n",
    "# DAV Assignement-9"
   ]
  },
  {
   "cell_type": "code",
   "execution_count": 2,
   "id": "7539e09e",
   "metadata": {},
   "outputs": [
    {
     "name": "stdout",
     "output_type": "stream",
     "text": [
      "   userid  version  sum_gamerounds  retention_1  retention_7\n",
      "0     116  gate_30               3        False        False\n",
      "1     337  gate_30              38         True        False\n",
      "2     377  gate_40             165         True        False\n",
      "3     483  gate_40               1        False        False\n",
      "4     488  gate_40             179         True         True\n"
     ]
    }
   ],
   "source": [
    "CC_Df=pd.read_csv('cookie_cats.csv')\n",
    "print(CC_Df.head())\n",
    "# CC_Df.isna().sum()\n",
    "# No null entries\n",
    "# len(CC_Df)"
   ]
  },
  {
   "cell_type": "markdown",
   "id": "5e611eab",
   "metadata": {},
   "source": [
    "# Task-1 :\n",
    "## Checking which version is better (Either 'gate_30' or 'gate_40') by means of computing average sum_gamerounds for each of the version"
   ]
  },
  {
   "cell_type": "code",
   "execution_count": 3,
   "id": "f88dab01",
   "metadata": {},
   "outputs": [
    {
     "name": "stdout",
     "output_type": "stream",
     "text": [
      "Average sum of game rounds for version gate30 : 52.45626398210291\n",
      "Average sum of game rounds for version  gate40 : 51.29877552814966\n"
     ]
    }
   ],
   "source": [
    "Average_Sum_GameRound_Gate_30=CC_Df[CC_Df.version=='gate_30']['sum_gamerounds'].mean()\n",
    "Average_Sum_GameRound_Gate_40=CC_Df[CC_Df.version=='gate_40']['sum_gamerounds'].mean()\n",
    "print(f'Average sum of game rounds for version gate30 : {Average_Sum_GameRound_Gate_30}')\n",
    "print(f'Average sum of game rounds for version  gate40 : {Average_Sum_GameRound_Gate_40}')"
   ]
  },
  {
   "cell_type": "code",
   "execution_count": 4,
   "id": "60b773ce",
   "metadata": {},
   "outputs": [
    {
     "name": "stdout",
     "output_type": "stream",
     "text": [
      "gate_30 version is better\n"
     ]
    }
   ],
   "source": [
    "# Displaying which version is better\n",
    "if(Average_Sum_GameRound_Gate_30>Average_Sum_GameRound_Gate_40) :\n",
    "    print('gate_30 version is better')\n",
    "else :\n",
    "    print('gate_40 version is better')"
   ]
  },
  {
   "cell_type": "markdown",
   "id": "4dd35999",
   "metadata": {},
   "source": [
    "# Task-2"
   ]
  },
  {
   "cell_type": "code",
   "execution_count": 5,
   "id": "18b18fe7",
   "metadata": {},
   "outputs": [
    {
     "data": {
      "text/plain": [
       "{0, 1, 3, 4, 6, 8, 10, 12, 14, 17, 19, 20, 21, 22, 23, 24, 25, 27, 28, 29}"
      ]
     },
     "execution_count": 5,
     "metadata": {},
     "output_type": "execute_result"
    }
   ],
   "source": [
    "set(random.sample(range(30), 10))\n",
    "set(random.sample(range(30), 20))"
   ]
  },
  {
   "cell_type": "code",
   "execution_count": 6,
   "id": "d8dabe19",
   "metadata": {},
   "outputs": [
    {
     "data": {
      "text/plain": [
       "{0, 1, 2, 3, 4, 5, 6, 7, 8, 9, 10, 11, 12, 13, 14, 15, 16, 17, 18, 19}"
      ]
     },
     "execution_count": 6,
     "metadata": {},
     "output_type": "execute_result"
    }
   ],
   "source": [
    "set(range(20))"
   ]
  },
  {
   "cell_type": "code",
   "execution_count": 10,
   "id": "097362d1",
   "metadata": {},
   "outputs": [],
   "source": [
    "No_of_version_group30=(CC_Df.version == 'gate_30').sum()\n",
    "Total=len(CC_Df)\n",
    "No_of_version_group40=Total-No_of_version_group30\n",
    "def perm_fun(sums):\n",
    "    Indices_40 = set(random.sample(range(Total), No_of_version_group40))\n",
    "    Indices_30 = set(range(Total)) - Indices_40\n",
    "    return sums.loc[list(Indices_40)].mean() - sums.loc[list(Indices_30)].mean()\n",
    "\n",
    "Differences = [perm_fun(CC_Df.sum_gamerounds) for _ in range(1000)]"
   ]
  },
  {
   "cell_type": "code",
   "execution_count": 23,
   "id": "856e87ad",
   "metadata": {},
   "outputs": [
    {
     "data": {
      "text/plain": [
       "Text(0.5, 200, 'Observed\\ndifference')"
      ]
     },
     "execution_count": 23,
     "metadata": {},
     "output_type": "execute_result"
    },
    {
     "data": {
      "image/png": "[encoded data removed]",
      "text/plain": [
       "<Figure size 720x360 with 1 Axes>"
      ]
     },
     "metadata": {
      "needs_background": "light"
     },
     "output_type": "display_data"
    }
   ],
   "source": [
    "fig, ax = plt.subplots(figsize=(10, 5))\n",
    "ax.hist(perm_diffs, bins=13, rwidth=0.7)\n",
    "ax.set_xlabel('Differences of Sum of rounds')\n",
    "ax.set_ylabel('Frequency')\n",
    "\n",
    "ax.axvline(x = Average_Sum_GameRound_Gate_30 - Average_Sum_GameRound_Gate_40, color='black', lw=3)\n",
    "\n",
    "ax.text(0.5, 200, 'Observed\\ndifference',bbox={'facecolor':'Red'})\n"
   ]
  },
  {
   "cell_type": "code",
   "execution_count": 30,
   "id": "e9a555b0",
   "metadata": {},
   "outputs": [
    {
     "name": "stdout",
     "output_type": "stream",
     "text": [
      "1\n"
     ]
    },
    {
     "data": {
      "text/plain": [
       "1.0"
      ]
     },
     "execution_count": 30,
     "metadata": {},
     "output_type": "execute_result"
    }
   ],
   "source": [
    "tmp=np.mean(Differences) > Average_Sum_GameRound_Gate_40 - Average_Sum_GameRound_Gate_30\n",
    "print(tmp.sum())\n",
    "np.mean(tmp)"
   ]
  },
  {
   "cell_type": "code",
   "execution_count": null,
   "id": "d648af84",
   "metadata": {},
   "outputs": [],
   "source": []
  }
 ],
 "metadata": {
  "kernelspec": {
   "display_name": "Python 3 (ipykernel)",
   "language": "python",
   "name": "python3"
  },
  "language_info": {
   "codemirror_mode": {
    "name": "ipython",
    "version": 3
   },
   "file_extension": ".py",
   "mimetype": "text/x-python",
   "name": "python",
   "nbconvert_exporter": "python",
   "pygments_lexer": "ipython3",
   "version": "3.9.12"
  }
 },
 "nbformat": 4,
 "nbformat_minor": 5
}
